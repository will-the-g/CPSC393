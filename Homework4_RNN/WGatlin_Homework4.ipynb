{
  "cells": [
    {
      "cell_type": "markdown",
      "metadata": {
        "id": "e5nr0hJn10Cw"
      },
      "source": [
        "# Imports"
      ]
    },
    {
      "cell_type": "code",
      "execution_count": 1,
      "metadata": {
        "id": "wwnbkX24B2Jm"
      },
      "outputs": [],
      "source": [
        "import numpy as np\n",
        "import tensorflow as tf\n",
        "from tensorflow.keras.models import Sequential, load_model\n",
        "from tensorflow.keras.layers import Dense, Dropout, LSTM, GRU, Embedding, SimpleRNN\n",
        "from tensorflow.keras.callbacks import ModelCheckpoint\n",
        "from tensorflow.keras.utils import to_categorical\n",
        "from tensorflow.keras import Input, Model, regularizers\n",
        "from sklearn.model_selection import train_test_split\n",
        "from tensorflow.keras.preprocessing.sequence import pad_sequences\n",
        "from tensorflow.keras.preprocessing.text import Tokenizer\n",
        "from tensorflow.keras.callbacks import EarlyStopping, ReduceLROnPlateau\n",
        "from tensorflow.keras.optimizers import Adam\n",
        "from tensorflow.keras.layers import BatchNormalization, LayerNormalization\n",
        "\n",
        "\n",
        "import os\n",
        "import string\n",
        "from random import randint\n",
        "from pickle import load\n",
        "import joblib"
      ]
    },
    {
      "cell_type": "markdown",
      "metadata": {
        "id": "8banzaKW11nr"
      },
      "source": [
        "# Preprocessing & data cleaning"
      ]
    },
    {
      "cell_type": "code",
      "execution_count": 2,
      "metadata": {
        "colab": {
          "base_uri": "https://localhost:8080/"
        },
        "id": "mSjHb4uoCf2S",
        "outputId": "39ec6034-c743-4c31-bb73-3f39eab53fa6"
      },
      "outputs": [
        {
          "output_type": "stream",
          "name": "stdout",
          "text": [
            "Alice was beginning to get very tired of sitting by her sister on the\n",
            "bank, and of having nothing to do: once or twice she had peeped into\n",
            "the book her sister was reading, but it had no pictures or\n",
            "co\n",
            "['alice', 'was', 'beginning', 'to', 'get', 'very', 'tired', 'of', 'sitting', 'by', 'her', 'sister', 'on', 'the', 'bank', 'and', 'of', 'having', 'nothing', 'to', 'do', 'once', 'or', 'twice', 'she', 'had', 'peeped', 'into', 'the', 'book', 'her', 'sister', 'was', 'reading', 'but', 'it', 'had', 'no', 'pictures', 'or', 'conversations', 'in', 'it', 'what', 'is', 'the', 'use', 'of', 'a', 'thought', 'alice', 'pictures', 'or', 'so', 'she', 'was', 'considering', 'in', 'her', 'own', 'mind', 'as', 'well', 'as', 'she', 'could', 'for', 'the', 'hot', 'day', 'made', 'her', 'feel', 'very', 'sleepy', 'and', 'stupid', 'whether', 'the', 'pleasure', 'of', 'making', 'a', 'daisychain', 'would', 'be', 'worth', 'the', 'trouble', 'of', 'getting', 'up', 'and', 'picking', 'the', 'daisies', 'when', 'suddenly', 'a', 'white', 'rabbit', 'with', 'pink', 'eyes', 'ran', 'close', 'by', 'her', 'there', 'was', 'nothing', 'so', 'very', 'remarkable', 'in', 'that', 'nor', 'did', 'alice', 'think', 'it', 'so', 'very', 'much', 'out', 'of', 'the', 'way', 'to', 'hear', 'the', 'rabbit', 'say', 'to', 'itself', 'dear', 'oh', 'dear', 'i', 'shall', 'be', 'when', 'she', 'thought', 'it', 'over', 'afterwards', 'it', 'occurred', 'to', 'her', 'that', 'she', 'ought', 'to', 'have', 'wondered', 'at', 'this', 'but', 'at', 'the', 'time', 'it', 'all', 'seemed', 'quite', 'natural', 'but', 'when', 'the', 'rabbit', 'actually', 'took', 'a', 'watch', 'out', 'of', 'its', 'waistcoatpocket', 'and', 'looked', 'at', 'it', 'and', 'then', 'hurried', 'on', 'alice', 'started', 'to', 'her', 'feet', 'for', 'it', 'flashed', 'across', 'her', 'mind', 'that']\n",
            "Total Tokens: 23476\n",
            "Unique Tokens: 2416\n",
            "Total Sequences: 23425\n"
          ]
        }
      ],
      "source": [
        "def load_doc(filename):\n",
        "    file = open(filename, 'r')\n",
        "    text = file.read()\n",
        "    file.close()\n",
        "    position = text.find('Alice was beginning to get very tired of sitting by her')\n",
        "    text = text[position:]\n",
        "    position = text.find('THE END')\n",
        "    text = text[:position]\n",
        "    return text\n",
        "\n",
        "def clean_doc(doc):\n",
        "    doc = doc.replace('--', ' ')\n",
        "    tokens = doc.split()\n",
        "    table = str.maketrans('', '', string.punctuation)\n",
        "    tokens = [w.translate(table) for w in tokens]\n",
        "    tokens = [word for word in tokens if word.isalpha()]\n",
        "    tokens = [word.lower() for word in tokens]\n",
        "    return tokens\n",
        "\n",
        "def save_doc(lines, filename):\n",
        "    data = '\\n'.join(lines)\n",
        "    file = open(filename, 'w')\n",
        "    file.write(data)\n",
        "    file.close()\n",
        "\n",
        "in_filename = 'book.txt'\n",
        "doc = load_doc(in_filename)\n",
        "print(doc[:200])\n",
        "\n",
        "tokens = clean_doc(doc)\n",
        "print(tokens[:200])\n",
        "print('Total Tokens: %d' % len(tokens))\n",
        "print('Unique Tokens: %d' % len(set(tokens)))\n",
        "\n",
        "length = 50 + 1\n",
        "sequences = list()\n",
        "for i in range(length, len(tokens)):\n",
        "    seq = tokens[i-length:i]\n",
        "    line = ' '.join(seq)\n",
        "    sequences.append(line)\n",
        "\n",
        "print('Total Sequences: %d' % len(sequences))\n",
        "\n",
        "out_filename = 'Sequences.txt'\n",
        "save_doc(sequences, out_filename)"
      ]
    },
    {
      "cell_type": "markdown",
      "source": [
        "## Visualizations of words"
      ],
      "metadata": {
        "id": "2UOhn9bPravC"
      }
    },
    {
      "cell_type": "code",
      "source": [
        "from collections import Counter\n",
        "import matplotlib.pyplot as plt\n",
        "\n",
        "token_counts = Counter(tokens)\n",
        "common_words = token_counts.most_common(20)\n",
        "words, counts = zip(*common_words)\n",
        "\n",
        "plt.bar(words, counts)\n",
        "plt.xticks(rotation=45)\n",
        "plt.title(\"Top 20 Most Frequent Words\")\n",
        "plt.xlabel(\"Words\")\n",
        "plt.ylabel(\"Frequency\")\n",
        "plt.show()"
      ],
      "metadata": {
        "id": "rIjUupdy-sdn",
        "colab": {
          "base_uri": "https://localhost:8080/",
          "height": 491
        },
        "outputId": "bdbabcc2-592b-45fe-af43-d677ae484c71"
      },
      "execution_count": 21,
      "outputs": [
        {
          "output_type": "display_data",
          "data": {
            "text/plain": [
              "<Figure size 640x480 with 1 Axes>"
            ],
            "image/png": "[encoded data removed]"
          },
          "metadata": {}
        }
      ]
    },
    {
      "cell_type": "markdown",
      "source": [
        "## Tokenization"
      ],
      "metadata": {
        "id": "s5tmkztErgW7"
      }
    },
    {
      "cell_type": "code",
      "execution_count": 62,
      "metadata": {
        "id": "FKnKq4L-0QAm",
        "colab": {
          "base_uri": "https://localhost:8080/"
        },
        "outputId": "d659d15d-015f-4ab7-f704-6999a97a1ab7"
      },
      "outputs": [
        {
          "output_type": "stream",
          "name": "stdout",
          "text": [
            "[[9, 11, 298, 3, 95, 24, 448, 6, 334, 70, 15, 447, 18, 1, 2, 6, 333, 139, 3, 64, 144, 52, 722, 5, 19, 929, 56, 1, 591, 15, 447, 11, 928, 28, 8, 19, 51, 720, 52, 10, 8, 35, 39, 1, 190, 6, 4, 48, 9], [11, 298, 3, 95, 24, 448, 6, 334, 70, 15, 447, 18, 1, 2, 6, 333, 139, 3, 64, 144, 52, 722, 5, 19, 929, 56, 1, 591, 15, 447, 11, 928, 28, 8, 19, 51, 720, 52, 10, 8, 35, 39, 1, 190, 6, 4, 48, 9, 720], [298, 3, 95, 24, 448, 6, 334, 70, 15, 447, 18, 1, 2, 6, 333, 139, 3, 64, 144, 52, 722, 5, 19, 929, 56, 1, 591, 15, 447, 11, 928, 28, 8, 19, 51, 720, 52, 10, 8, 35, 39, 1, 190, 6, 4, 48, 9, 720, 52], [3, 95, 24, 448, 6, 334, 70, 15, 447, 18, 1, 2, 6, 333, 139, 3, 64, 144, 52, 722, 5, 19, 929, 56, 1, 591, 15, 447, 11, 928, 28, 8, 19, 51, 720, 52, 10, 8, 35, 39, 1, 190, 6, 4, 48, 9, 720, 52, 25], [95, 24, 448, 6, 334, 70, 15, 447, 18, 1, 2, 6, 333, 139, 3, 64, 144, 52, 722, 5, 19, 929, 56, 1, 591, 15, 447, 11, 928, 28, 8, 19, 51, 720, 52, 10, 8, 35, 39, 1, 190, 6, 4, 48, 9, 720, 52, 25, 5], [24, 448, 6, 334, 70, 15, 447, 18, 1, 2, 6, 333, 139, 3, 64, 144, 52, 722, 5, 19, 929, 56, 1, 591, 15, 447, 11, 928, 28, 8, 19, 51, 720, 52, 10, 8, 35, 39, 1, 190, 6, 4, 48, 9, 720, 52, 25, 5, 11], [448, 6, 334, 70, 15, 447, 18, 1, 2, 6, 333, 139, 3, 64, 144, 52, 722, 5, 19, 929, 56, 1, 591, 15, 447, 11, 928, 28, 8, 19, 51, 720, 52, 10, 8, 35, 39, 1, 190, 6, 4, 48, 9, 720, 52, 25, 5, 11, 723], [6, 334, 70, 15, 447, 18, 1, 2, 6, 333, 139, 3, 64, 144, 52, 722, 5, 19, 929, 56, 1, 591, 15, 447, 11, 928, 28, 8, 19, 51, 720, 52, 10, 8, 35, 39, 1, 190, 6, 4, 48, 9, 720, 52, 25, 5, 11, 723, 10], [334, 70, 15, 447, 18, 1, 2, 6, 333, 139, 3, 64, 144, 52, 722, 5, 19, 929, 56, 1, 591, 15, 447, 11, 928, 28, 8, 19, 51, 720, 52, 10, 8, 35, 39, 1, 190, 6, 4, 48, 9, 720, 52, 25, 5, 11, 723, 10, 15], [70, 15, 447, 18, 1, 2, 6, 333, 139, 3, 64, 144, 52, 722, 5, 19, 929, 56, 1, 591, 15, 447, 11, 928, 28, 8, 19, 51, 720, 52, 10, 8, 35, 39, 1, 190, 6, 4, 48, 9, 720, 52, 25, 5, 11, 723, 10, 15, 335], [15, 447, 18, 1, 2, 6, 333, 139, 3, 64, 144, 52, 722, 5, 19, 929, 56, 1, 591, 15, 447, 11, 928, 28, 8, 19, 51, 720, 52, 10, 8, 35, 39, 1, 190, 6, 4, 48, 9, 720, 52, 25, 5, 11, 723, 10, 15, 335, 408], [447, 18, 1, 2, 6, 333, 139, 3, 64, 144, 52, 722, 5, 19, 929, 56, 1, 591, 15, 447, 11, 928, 28, 8, 19, 51, 720, 52, 10, 8, 35, 39, 1, 190, 6, 4, 48, 9, 720, 52, 25, 5, 11, 723, 10, 15, 335, 408, 14], [18, 1, 2, 6, 333, 139, 3, 64, 144, 52, 722, 5, 19, 929, 56, 1, 591, 15, 447, 11, 928, 28, 8, 19, 51, 720, 52, 10, 8, 35, 39, 1, 190, 6, 4, 48, 9, 720, 52, 25, 5, 11, 723, 10, 15, 335, 408, 14, 126], [1, 2, 6, 333, 139, 3, 64, 144, 52, 722, 5, 19, 929, 56, 1, 591, 15, 447, 11, 928, 28, 8, 19, 51, 720, 52, 10, 8, 35, 39, 1, 190, 6, 4, 48, 9, 720, 52, 25, 5, 11, 723, 10, 15, 335, 408, 14, 126, 14], [2, 6, 333, 139, 3, 64, 144, 52, 722, 5, 19, 929, 56, 1, 591, 15, 447, 11, 928, 28, 8, 19, 51, 720, 52, 10, 8, 35, 39, 1, 190, 6, 4, 48, 9, 720, 52, 25, 5, 11, 723, 10, 15, 335, 408, 14, 126, 14, 5], [2, 6, 333, 139, 3, 64, 144, 52, 722, 5, 19, 929, 56, 1, 591, 15, 447, 11, 928, 28, 8, 19, 51, 720, 52, 10, 8, 35, 39, 1, 190, 6, 4, 48, 9, 720, 52, 25, 5, 11, 723, 10, 15, 335, 408, 14, 126, 14, 5, 44], [6, 333, 139, 3, 64, 144, 52, 722, 5, 19, 929, 56, 1, 591, 15, 447, 11, 928, 28, 8, 19, 51, 720, 52, 10, 8, 35, 39, 1, 190, 6, 4, 48, 9, 720, 52, 25, 5, 11, 723, 10, 15, 335, 408, 14, 126, 14, 5, 44, 22], [333, 139, 3, 64, 144, 52, 722, 5, 19, 929, 56, 1, 591, 15, 447, 11, 928, 28, 8, 19, 51, 720, 52, 10, 8, 35, 39, 1, 190, 6, 4, 48, 9, 720, 52, 25, 5, 11, 723, 10, 15, 335, 408, 14, 126, 14, 5, 44, 22, 1], [139, 3, 64, 144, 52, 722, 5, 19, 929, 56, 1, 591, 15, 447, 11, 928, 28, 8, 19, 51, 720, 52, 10, 8, 35, 39, 1, 190, 6, 4, 48, 9, 720, 52, 25, 5, 11, 723, 10, 15, 335, 408, 14, 126, 14, 5, 44, 22, 1, 508], [3, 64, 144, 52, 722, 5, 19, 929, 56, 1, 591, 15, 447, 11, 928, 28, 8, 19, 51, 720, 52, 10, 8, 35, 39, 1, 190, 6, 4, 48, 9, 720, 52, 25, 5, 11, 723, 10, 15, 335, 408, 14, 126, 14, 5, 44, 22, 1, 508, 172], [64, 144, 52, 722, 5, 19, 929, 56, 1, 591, 15, 447, 11, 928, 28, 8, 19, 51, 720, 52, 10, 8, 35, 39, 1, 190, 6, 4, 48, 9, 720, 52, 25, 5, 11, 723, 10, 15, 335, 408, 14, 126, 14, 5, 44, 22, 1, 508, 172, 130], [144, 52, 722, 5, 19, 929, 56, 1, 591, 15, 447, 11, 928, 28, 8, 19, 51, 720, 52, 10, 8, 35, 39, 1, 190, 6, 4, 48, 9, 720, 52, 25, 5, 11, 723, 10, 15, 335, 408, 14, 126, 14, 5, 44, 22, 1, 508, 172, 130, 15], [52, 722, 5, 19, 929, 56, 1, 591, 15, 447, 11, 928, 28, 8, 19, 51, 720, 52, 10, 8, 35, 39, 1, 190, 6, 4, 48, 9, 720, 52, 25, 5, 11, 723, 10, 15, 335, 408, 14, 126, 14, 5, 44, 22, 1, 508, 172, 130, 15, 407], [722, 5, 19, 929, 56, 1, 591, 15, 447, 11, 928, 28, 8, 19, 51, 720, 52, 10, 8, 35, 39, 1, 190, 6, 4, 48, 9, 720, 52, 25, 5, 11, 723, 10, 15, 335, 408, 14, 126, 14, 5, 44, 22, 1, 508, 172, 130, 15, 407, 24], [5, 19, 929, 56, 1, 591, 15, 447, 11, 928, 28, 8, 19, 51, 720, 52, 10, 8, 35, 39, 1, 190, 6, 4, 48, 9, 720, 52, 25, 5, 11, 723, 10, 15, 335, 408, 14, 126, 14, 5, 44, 22, 1, 508, 172, 130, 15, 407, 24, 509], [19, 929, 56, 1, 591, 15, 447, 11, 928, 28, 8, 19, 51, 720, 52, 10, 8, 35, 39, 1, 190, 6, 4, 48, 9, 720, 52, 25, 5, 11, 723, 10, 15, 335, 408, 14, 126, 14, 5, 44, 22, 1, 508, 172, 130, 15, 407, 24, 509, 2], [929, 56, 1, 591, 15, 447, 11, 928, 28, 8, 19, 51, 720, 52, 10, 8, 35, 39, 1, 190, 6, 4, 48, 9, 720, 52, 25, 5, 11, 723, 10, 15, 335, 408, 14, 126, 14, 5, 44, 22, 1, 508, 172, 130, 15, 407, 24, 509, 2, 930], [56, 1, 591, 15, 447, 11, 928, 28, 8, 19, 51, 720, 52, 10, 8, 35, 39, 1, 190, 6, 4, 48, 9, 720, 52, 25, 5, 11, 723, 10, 15, 335, 408, 14, 126, 14, 5, 44, 22, 1, 508, 172, 130, 15, 407, 24, 509, 2, 930, 281], [1, 591, 15, 447, 11, 928, 28, 8, 19, 51, 720, 52, 10, 8, 35, 39, 1, 190, 6, 4, 48, 9, 720, 52, 25, 5, 11, 723, 10, 15, 335, 408, 14, 126, 14, 5, 44, 22, 1, 508, 172, 130, 15, 407, 24, 509, 2, 930, 281, 1], [591, 15, 447, 11, 928, 28, 8, 19, 51, 720, 52, 10, 8, 35, 39, 1, 190, 6, 4, 48, 9, 720, 52, 25, 5, 11, 723, 10, 15, 335, 408, 14, 126, 14, 5, 44, 22, 1, 508, 172, 130, 15, 407, 24, 509, 2, 930, 281, 1], [15, 447, 11, 928, 28, 8, 19, 51, 720, 52, 10, 8, 35, 39, 1, 190, 6, 4, 48, 9, 720, 52, 25, 5, 11, 723, 10, 15, 335, 408, 14, 126, 14, 5, 44, 22, 1, 508, 172, 130, 15, 407, 24, 509, 2, 930, 281, 1, 6], [447, 11, 928, 28, 8, 19, 51, 720, 52, 10, 8, 35, 39, 1, 190, 6, 4, 48, 9, 720, 52, 25, 5, 11, 723, 10, 15, 335, 408, 14, 126, 14, 5, 44, 22, 1, 508, 172, 130, 15, 407, 24, 509, 2, 930, 281, 1, 6, 365], [11, 928, 28, 8, 19, 51, 720, 52, 10, 8, 35, 39, 1, 190, 6, 4, 48, 9, 720, 52, 25, 5, 11, 723, 10, 15, 335, 408, 14, 126, 14, 5, 44, 22, 1, 508, 172, 130, 15, 407, 24, 509, 2, 930, 281, 1, 6, 365, 4], [928, 28, 8, 19, 51, 720, 52, 10, 8, 35, 39, 1, 190, 6, 4, 48, 9, 720, 52, 25, 5, 11, 723, 10, 15, 335, 408, 14, 126, 14, 5, 44, 22, 1, 508, 172, 130, 15, 407, 24, 509, 2, 930, 281, 1, 6, 365, 4], [28, 8, 19, 51, 720, 52, 10, 8, 35, 39, 1, 190, 6, 4, 48, 9, 720, 52, 25, 5, 11, 723, 10, 15, 335, 408, 14, 126, 14, 5, 44, 22, 1, 508, 172, 130, 15, 407, 24, 509, 2, 930, 281, 1, 6, 365, 4, 46], [8, 19, 51, 720, 52, 10, 8, 35, 39, 1, 190, 6, 4, 48, 9, 720, 52, 25, 5, 11, 723, 10, 15, 335, 408, 14, 126, 14, 5, 44, 22, 1, 508, 172, 130, 15, 407, 24, 509, 2, 930, 281, 1, 6, 365, 4, 46, 23], [19, 51, 720, 52, 10, 8, 35, 39, 1, 190, 6, 4, 48, 9, 720, 52, 25, 5, 11, 723, 10, 15, 335, 408, 14, 126, 14, 5, 44, 22, 1, 508, 172, 130, 15, 407, 24, 509, 2, 930, 281, 1, 6, 365, 4, 46, 23, 592], [51, 720, 52, 10, 8, 35, 39, 1, 190, 6, 4, 48, 9, 720, 52, 25, 5, 11, 723, 10, 15, 335, 408, 14, 126, 14, 5, 44, 22, 1, 508, 172, 130, 15, 407, 24, 509, 2, 930, 281, 1, 6, 365, 4, 46, 23, 592, 1], [720, 52, 10, 8, 35, 39, 1, 190, 6, 4, 48, 9, 720, 52, 25, 5, 11, 723, 10, 15, 335, 408, 14, 126, 14, 5, 44, 22, 1, 508, 172, 130, 15, 407, 24, 509, 2, 930, 281, 1, 6, 365, 4, 46, 23, 592, 1, 510], [52, 10, 8, 35, 39, 1, 190, 6, 4, 48, 9, 720, 52, 25, 5, 11, 723, 10, 15, 335, 408, 14, 126, 14, 5, 44, 22, 1, 508, 172, 130, 15, 407, 24, 509, 2, 930, 281, 1, 6, 365, 4, 46, 23, 592, 1, 510, 6], [10, 8, 35, 39, 1, 190, 6, 4, 48, 9, 720, 52, 25, 5, 11, 723, 10, 15, 335, 408, 14, 126, 14, 5, 44, 22, 1, 508, 172, 130, 15, 407, 24, 509, 2, 930, 281, 1, 6, 365, 4, 46, 23, 592, 1, 510, 6, 173], [10, 8, 35, 39, 1, 190, 6, 4, 48, 9, 720, 52, 25, 5, 11, 723, 10, 15, 335, 408, 14, 126, 14, 5, 44, 22, 1, 508, 172, 130, 15, 407, 24, 509, 2, 930, 281, 1, 6, 365, 4, 46, 23, 592, 1, 510, 6, 173, 37], [8, 35, 39, 1, 190, 6, 4, 48, 9, 720, 52, 25, 5, 11, 723, 10, 15, 335, 408, 14, 126, 14, 5, 44, 22, 1, 508, 172, 130, 15, 407, 24, 509, 2, 930, 281, 1, 6, 365, 4, 46, 23, 592, 1, 510, 6, 173, 37, 2], [35, 39, 1, 190, 6, 4, 48, 9, 720, 52, 25, 5, 11, 723, 10, 15, 335, 408, 14, 126, 14, 5, 44, 22, 1, 508, 172, 130, 15, 407, 24, 509, 2, 930, 281, 1, 6, 365, 4, 46, 23, 592, 1, 510, 6, 173, 37, 2, 931], [39, 1, 190, 6, 4, 48, 9, 720, 52, 25, 5, 11, 723, 10, 15, 335, 408, 14, 126, 14, 5, 44, 22, 1, 508, 172, 130, 15, 407, 24, 509, 2, 930, 281, 1, 6, 365, 4, 46, 23, 592, 1, 510, 6, 173, 37, 2, 931, 1], [1, 190, 6, 4, 48, 9, 720, 52, 25, 5, 11, 723, 10, 15, 335, 408, 14, 126, 14, 5, 44, 22, 1, 508, 172, 130, 15, 407, 24, 509, 2, 930, 281, 1, 6, 365, 4, 46, 23, 592, 1, 510, 6, 173, 37, 2, 931, 1], [190, 6, 4, 48, 9, 720, 52, 25, 5, 11, 723, 10, 15, 335, 408, 14, 126, 14, 5, 44, 22, 1, 508, 172, 130, 15, 407, 24, 509, 2, 930, 281, 1, 6, 365, 4, 46, 23, 592, 1, 510, 6, 173, 37, 2, 931, 1, 47], [6, 4, 48, 9, 720, 52, 25, 5, 11, 723, 10, 15, 335, 408, 14, 126, 14, 5, 44, 22, 1, 508, 172, 130, 15, 407, 24, 509, 2, 930, 281, 1, 6, 365, 4, 46, 23, 592, 1, 510, 6, 173, 37, 2, 931, 1, 47, 240], [4, 48, 9, 720, 52, 25, 5, 11, 723, 10, 15, 335, 408, 14, 126, 14, 5, 44, 22, 1, 508, 172, 130, 15, 407, 24, 509, 2, 930, 281, 1, 6, 365, 4, 46, 23, 592, 1, 510, 6, 173, 37, 2, 931, 1, 47, 240, 4], [48, 9, 720, 52, 25, 5, 11, 723, 10, 15, 335, 408, 14, 126, 14, 5, 44, 22, 1, 508, 172, 130, 15, 407, 24, 509, 2, 930, 281, 1, 6, 365, 4, 46, 23, 592, 1, 510, 6, 173, 37, 2, 931, 1, 47, 240, 4, 131], [9, 720, 52, 25, 5, 11, 723, 10, 15, 335, 408, 14, 126, 14, 5, 44, 22, 1, 508, 172, 130, 15, 407, 24, 509, 2, 930, 281, 1, 6, 365, 4, 46, 23, 592, 1, 510, 6, 173, 37, 2, 931, 1, 47, 240, 4, 131, 96], [720, 52, 25, 5, 11, 723, 10, 15, 335, 408, 14, 126, 14, 5, 44, 22, 1, 508, 172, 130, 15, 407, 24, 509, 2, 930, 281, 1, 6, 365, 4, 46, 23, 592, 1, 510, 6, 173, 37, 2, 931, 1, 47, 240, 4, 131, 96, 20], [52, 25, 5, 11, 723, 10, 15, 335, 408, 14, 126, 14, 5, 44, 22, 1, 508, 172, 130, 15, 407, 24, 509, 2, 930, 281, 1, 6, 365, 4, 46, 23, 592, 1, 510, 6, 173, 37, 2, 931, 1, 47, 240, 4, 131, 96, 20], [25, 5, 11, 723, 10, 15, 335, 408, 14, 126, 14, 5, 44, 22, 1, 508, 172, 130, 15, 407, 24, 509, 2, 930, 281, 1, 6, 365, 4, 46, 23, 592, 1, 510, 6, 173, 37, 2, 931, 1, 47, 240, 4, 131, 96, 20, 150], [5, 11, 723, 10, 15, 335, 408, 14, 126, 14, 5, 44, 22, 1, 508, 172, 130, 15, 407, 24, 509, 2, 930, 281, 1, 6, 365, 4, 46, 23, 592, 1, 510, 6, 173, 37, 2, 931, 1, 47, 240, 4, 131, 96, 20, 150, 203], [11, 723, 10, 15, 335, 408, 14, 126, 14, 5, 44, 22, 1, 508, 172, 130, 15, 407, 24, 509, 2, 930, 281, 1, 6, 365, 4, 46, 23, 592, 1, 510, 6, 173, 37, 2, 931, 1, 47, 240, 4, 131, 96, 20, 150, 203, 241], [723, 10, 15, 335, 408, 14, 126, 14, 5, 44, 22, 1, 508, 172, 130, 15, 407, 24, 509, 2, 930, 281, 1, 6, 365, 4, 46, 23, 592, 1, 510, 6, 173, 37, 2, 931, 1, 47, 240, 4, 131, 96, 20, 150, 203, 241, 70], [10, 15, 335, 408, 14, 126, 14, 5, 44, 22, 1, 508, 172, 130, 15, 407, 24, 509, 2, 930, 281, 1, 6, 365, 4, 46, 23, 592, 1, 510, 6, 173, 37, 2, 931, 1, 47, 240, 4, 131, 96, 20, 150, 203, 241, 70, 15], [15, 335, 408, 14, 126, 14, 5, 44, 22, 1, 508, 172, 130, 15, 407, 24, 509, 2, 930, 281, 1, 6, 365, 4, 46, 23, 592, 1, 510, 6, 173, 37, 2, 931, 1, 47, 240, 4, 131, 96, 20, 150, 203, 241, 70, 15, 54], [335, 408, 14, 126, 14, 5, 44, 22, 1, 508, 172, 130, 15, 407, 24, 509, 2, 930, 281, 1, 6, 365, 4, 46, 23, 592, 1, 510, 6, 173, 37, 2, 931, 1, 47, 240, 4, 131, 96, 20, 150, 203, 241, 70, 15, 54, 11], [408, 14, 126, 14, 5, 44, 22, 1, 508, 172, 130, 15, 407, 24, 509, 2, 930, 281, 1, 6, 365, 4, 46, 23, 592, 1, 510, 6, 173, 37, 2, 931, 1, 47, 240, 4, 131, 96, 20, 150, 203, 241, 70, 15, 54, 11, 139], [14, 126, 14, 5, 44, 22, 1, 508, 172, 130, 15, 407, 24, 509, 2, 930, 281, 1, 6, 365, 4, 46, 23, 592, 1, 510, 6, 173, 37, 2, 931, 1, 47, 240, 4, 131, 96, 20, 150, 203, 241, 70, 15, 54, 11, 139, 25], [126, 14, 5, 44, 22, 1, 508, 172, 130, 15, 407, 24, 509, 2, 930, 281, 1, 6, 365, 4, 46, 23, 592, 1, 510, 6, 173, 37, 2, 931, 1, 47, 240, 4, 131, 96, 20, 150, 203, 241, 70, 15, 54, 11, 139, 25, 24], [14, 5, 44, 22, 1, 508, 172, 130, 15, 407, 24, 509, 2, 930, 281, 1, 6, 365, 4, 46, 23, 592, 1, 510, 6, 173, 37, 2, 931, 1, 47, 240, 4, 131, 96, 20, 150, 203, 241, 70, 15, 54, 11, 139, 25, 24, 932], [5, 44, 22, 1, 508, 172, 130, 15, 407, 24, 509, 2, 930, 281, 1, 6, 365, 4, 46, 23, 592, 1, 510, 6, 173, 37, 2, 931, 1, 47, 240, 4, 131, 96, 20, 150, 203, 241, 70, 15, 54, 11, 139, 25, 24, 932, 10], [44, 22, 1, 508, 172, 130, 15, 407, 24, 509, 2, 930, 281, 1, 6, 365, 4, 46, 23, 592, 1, 510, 6, 173, 37, 2, 931, 1, 47, 240, 4, 131, 96, 20, 150, 203, 241, 70, 15, 54, 11, 139, 25, 24, 932, 10, 16], [22, 1, 508, 172, 130, 15, 407, 24, 509, 2, 930, 281, 1, 6, 365, 4, 46, 23, 592, 1, 510, 6, 173, 37, 2, 931, 1, 47, 240, 4, 131, 96, 20, 150, 203, 241, 70, 15, 54, 11, 139, 25, 24, 932, 10, 16, 933], [1, 508, 172, 130, 15, 407, 24, 509, 2, 930, 281, 1, 6, 365, 4, 46, 23, 592, 1, 510, 6, 173, 37, 2, 931, 1, 47, 240, 4, 131, 96, 20, 150, 203, 241, 70, 15, 54, 11, 139, 25, 24, 932, 10, 16, 933, 71], [508, 172, 130, 15, 407, 24, 509, 2, 930, 281, 1, 6, 365, 4, 46, 23, 592, 1, 510, 6, 173, 37, 2, 931, 1, 47, 240, 4, 131, 96, 20, 150, 203, 241, 70, 15, 54, 11, 139, 25, 24, 932, 10, 16, 933, 71, 9], [172, 130, 15, 407, 24, 509, 2, 930, 281, 1, 6, 365, 4, 46, 23, 592, 1, 510, 6, 173, 37, 2, 931, 1, 47, 240, 4, 131, 96, 20, 150, 203, 241, 70, 15, 54, 11, 139, 25, 24, 932, 10, 16, 933, 71, 9, 92], [130, 15, 407, 24, 509, 2, 930, 281, 1, 6, 365, 4, 46, 23, 592, 1, 510, 6, 173, 37, 2, 931, 1, 47, 240, 4, 131, 96, 20, 150, 203, 241, 70, 15, 54, 11, 139, 25, 24, 932, 10, 16, 933, 71, 9, 92, 8], [15, 407, 24, 509, 2, 930, 281, 1, 6, 365, 4, 46, 23, 592, 1, 510, 6, 173, 37, 2, 931, 1, 47, 240, 4, 131, 96, 20, 150, 203, 241, 70, 15, 54, 11, 139, 25, 24, 932, 10, 16, 933, 71, 9, 92, 8, 25], [407, 24, 509, 2, 930, 281, 1, 6, 365, 4, 46, 23, 592, 1, 510, 6, 173, 37, 2, 931, 1, 47, 240, 4, 131, 96, 20, 150, 203, 241, 70, 15, 54, 11, 139, 25, 24, 932, 10, 16, 933, 71, 9, 92, 8, 25, 24], [24, 509, 2, 930, 281, 1, 6, 365, 4, 46, 23, 592, 1, 510, 6, 173, 37, 2, 931, 1, 47, 240, 4, 131, 96, 20, 150, 203, 241, 70, 15, 54, 11, 139, 25, 24, 932, 10, 16, 933, 71, 9, 92, 8, 25, 24, 93], [509, 2, 930, 281, 1, 6, 365, 4, 46, 23, 592, 1, 510, 6, 173, 37, 2, 931, 1, 47, 240, 4, 131, 96, 20, 150, 203, 241, 70, 15, 54, 11, 139, 25, 24, 932, 10, 16, 933, 71, 9, 92, 8, 25, 24, 93, 31], [2, 930, 281, 1, 6, 365, 4, 46, 23, 592, 1, 510, 6, 173, 37, 2, 931, 1, 47, 240, 4, 131, 96, 20, 150, 203, 241, 70, 15, 54, 11, 139, 25, 24, 932, 10, 16, 933, 71, 9, 92, 8, 25, 24, 93, 31, 6], [930, 281, 1, 6, 365, 4, 46, 23, 592, 1, 510, 6, 173, 37, 2, 931, 1, 47, 240, 4, 131, 96, 20, 150, 203, 241, 70, 15, 54, 11, 139, 25, 24, 932, 10, 16, 933, 71, 9, 92, 8, 25, 24, 93, 31, 6, 1], [281, 1, 6, 365, 4, 46, 23, 592, 1, 510, 6, 173, 37, 2, 931, 1, 47, 240, 4, 131, 96, 20, 150, 203, 241, 70, 15, 54, 11, 139, 25, 24, 932, 10, 16, 933, 71, 9, 92, 8, 25, 24, 93, 31, 6, 1, 78], [1, 6, 365, 4, 46, 23, 592, 1, 510, 6, 173, 37, 2, 931, 1, 47, 240, 4, 131, 96, 20, 150, 203, 241, 70, 15, 54, 11, 139, 25, 24, 932, 10, 16, 933, 71, 9, 92, 8, 25, 24, 93, 31, 6, 1, 78, 3], [6, 365, 4, 46, 23, 592, 1, 510, 6, 173, 37, 2, 931, 1, 47, 240, 4, 131, 96, 20, 150, 203, 241, 70, 15, 54, 11, 139, 25, 24, 932, 10, 16, 933, 71, 9, 92, 8, 25, 24, 93, 31, 6, 1, 78, 3, 223], [6, 365, 4, 46, 23, 592, 1, 510, 6, 173, 37, 2, 931, 1, 47, 240, 4, 131, 96, 20, 150, 203, 241, 70, 15, 54, 11, 139, 25, 24, 932, 10, 16, 933, 71, 9, 92, 8, 25, 24, 93, 31, 6, 1, 78, 3, 223, 1], [365, 4, 46, 23, 592, 1, 510, 6, 173, 37, 2, 931, 1, 47, 240, 4, 131, 96, 20, 150, 203, 241, 70, 15, 54, 11, 139, 25, 24, 932, 10, 16, 933, 71, 9, 92, 8, 25, 24, 93, 31, 6, 1, 78, 3, 223, 1, 96], [4, 46, 23, 592, 1, 510, 6, 173, 37, 2, 931, 1, 47, 240, 4, 131, 96, 20, 150, 203, 241, 70, 15, 54, 11, 139, 25, 24, 932, 10, 16, 933, 71, 9, 92, 8, 25, 24, 93, 31, 6, 1, 78, 3, 223, 1, 96, 97], [46, 23, 592, 1, 510, 6, 173, 37, 2, 931, 1, 47, 240, 4, 131, 96, 20, 150, 203, 241, 70, 15, 54, 11, 139, 25, 24, 932, 10, 16, 933, 71, 9, 92, 8, 25, 24, 93, 31, 6, 1, 78, 3, 223, 1, 96, 97, 3], [46, 23, 592, 1, 510, 6, 173, 37, 2, 931, 1, 47, 240, 4, 131, 96, 20, 150, 203, 241, 70, 15, 54, 11, 139, 25, 24, 932, 10, 16, 933, 71, 9, 92, 8, 25, 24, 93, 31, 6, 1, 78, 3, 223, 1, 96, 97, 3, 224], [23, 592, 1, 510, 6, 173, 37, 2, 931, 1, 47, 240, 4, 131, 96, 20, 150, 203, 241, 70, 15, 54, 11, 139, 25, 24, 932, 10, 16, 933, 71, 9, 92, 8, 25, 24, 93, 31, 6, 1, 78, 3, 223, 1, 96, 97, 3, 224, 167], [592, 1, 510, 6, 173, 37, 2, 931, 1, 47, 240, 4, 131, 96, 20, 150, 203, 241, 70, 15, 54, 11, 139, 25, 24, 932, 10, 16, 933, 71, 9, 92, 8, 25, 24, 93, 31, 6, 1, 78, 3, 223, 1, 96, 97, 3, 224, 167, 210], [1, 510, 6, 173, 37, 2, 931, 1, 47, 240, 4, 131, 96, 20, 150, 203, 241, 70, 15, 54, 11, 139, 25, 24, 932, 10, 16, 933, 71, 9, 92, 8, 25, 24, 93, 31, 6, 1, 78, 3, 223, 1, 96, 97, 3, 224, 167, 210, 167], [510, 6, 173, 37, 2, 931, 1, 47, 240, 4, 131, 96, 20, 150, 203, 241, 70, 15, 54, 11, 139, 25, 24, 932, 10, 16, 933, 71, 9, 92, 8, 25, 24, 93, 31, 6, 1, 78, 3, 223, 1, 96, 97, 3, 224, 167, 210, 167, 13], [6, 173, 37, 2, 931, 1, 47, 240, 4, 131, 96, 20, 150, 203, 241, 70, 15, 54, 11, 139, 25, 24, 932, 10, 16, 933, 71, 9, 92, 8, 25, 24, 93, 31, 6, 1, 78, 3, 223, 1, 96, 97, 3, 224, 167, 210, 167, 13, 168], [173, 37, 2, 931, 1, 47, 240, 4, 131, 96, 20, 150, 203, 241, 70, 15, 54, 11, 139, 25, 24, 932, 10, 16, 933, 71, 9, 92, 8, 25, 24, 93, 31, 6, 1, 78, 3, 223, 1, 96, 97, 3, 224, 167, 210, 167, 13, 168, 23], [37, 2, 931, 1, 47, 240, 4, 131, 96, 20, 150, 203, 241, 70, 15, 54, 11, 139, 25, 24, 932, 10, 16, 933, 71, 9, 92, 8, 25, 24, 93, 31, 6, 1, 78, 3, 223, 1, 96, 97, 3, 224, 167, 210, 167, 13, 168, 23, 47], [2, 931, 1, 47, 240, 4, 131, 96, 20, 150, 203, 241, 70, 15, 54, 11, 139, 25, 24, 932, 10, 16, 933, 71, 9, 92, 8, 25, 24, 93, 31, 6, 1, 78, 3, 223, 1, 96, 97, 3, 224, 167, 210, 167, 13, 168, 23, 47, 5], [931, 1, 47, 240, 4, 131, 96, 20, 150, 203, 241, 70, 15, 54, 11, 139, 25, 24, 932, 10, 16, 933, 71, 9, 92, 8, 25, 24, 93, 31, 6, 1, 78, 3, 223, 1, 96, 97, 3, 224, 167, 210, 167, 13, 168, 23, 47, 5, 48], [1, 47, 240, 4, 131, 96, 20, 150, 203, 241, 70, 15, 54, 11, 139, 25, 24, 932, 10, 16, 933, 71, 9, 92, 8, 25, 24, 93, 31, 6, 1, 78, 3, 223, 1, 96, 97, 3, 224, 167, 210, 167, 13, 168, 23, 47, 5, 48, 8], [47, 240, 4, 131, 96, 20, 150, 203, 241, 70, 15, 54, 11, 139, 25, 24, 932, 10, 16, 933, 71, 9, 92, 8, 25, 24, 93, 31, 6, 1, 78, 3, 223, 1, 96, 97, 3, 224, 167, 210, 167, 13, 168, 23, 47, 5, 48, 8, 110], [47, 240, 4, 131, 96, 20, 150, 203, 241, 70, 15, 54, 11, 139, 25, 24, 932, 10, 16, 933, 71, 9, 92, 8, 25, 24, 93, 31, 6, 1, 78, 3, 223, 1, 96, 97, 3, 224, 167, 210, 167, 13, 168, 23, 47, 5, 48, 8, 110], [240, 4, 131, 96, 20, 150, 203, 241, 70, 15, 54, 11, 139, 25, 24, 932, 10, 16, 933, 71, 9, 92, 8, 25, 24, 93, 31, 6, 1, 78, 3, 223, 1, 96, 97, 3, 224, 167, 210, 167, 13, 168, 23, 47, 5, 48, 8, 110, 8], [4, 131, 96, 20, 150, 203, 241, 70, 15, 54, 11, 139, 25, 24, 932, 10, 16, 933, 71, 9, 92, 8, 25, 24, 93, 31, 6, 1, 78, 3, 223, 1, 96, 97, 3, 224, 167, 210, 167, 13, 168, 23, 47, 5, 48, 8, 110, 8, 934], [131, 96, 20, 150, 203, 241, 70, 15, 54, 11, 139, 25, 24, 932, 10, 16, 933, 71, 9, 92, 8, 25, 24, 93, 31, 6, 1, 78, 3, 223, 1, 96, 97, 3, 224, 167, 210, 167, 13, 168, 23, 47, 5, 48, 8, 110, 8, 934, 3], [96, 20, 150, 203, 241, 70, 15, 54, 11, 139, 25, 24, 932, 10, 16, 933, 71, 9, 92, 8, 25, 24, 93, 31, 6, 1, 78, 3, 223, 1, 96, 97, 3, 224, 167, 210, 167, 13, 168, 23, 47, 5, 48, 8, 110, 8, 934, 3, 15], [20, 150, 203, 241, 70, 15, 54, 11, 139, 25, 24, 932, 10, 16, 933, 71, 9, 92, 8, 25, 24, 93, 31, 6, 1, 78, 3, 223, 1, 96, 97, 3, 224, 167, 210, 167, 13, 168, 23, 47, 5, 48, 8, 110, 8, 934, 3, 15, 16], [150, 203, 241, 70, 15, 54, 11, 139, 25, 24, 932, 10, 16, 933, 71, 9, 92, 8, 25, 24, 93, 31, 6, 1, 78, 3, 223, 1, 96, 97, 3, 224, 167, 210, 167, 13, 168, 23, 47, 5, 48, 8, 110, 8, 934, 3, 15, 16, 5], [150, 203, 241, 70, 15, 54, 11, 139, 25, 24, 932, 10, 16, 933, 71, 9, 92, 8, 25, 24, 93, 31, 6, 1, 78, 3, 223, 1, 96, 97, 3, 224, 167, 210, 167, 13, 168, 23, 47, 5, 48, 8, 110, 8, 934, 3, 15, 16, 5, 225], [203, 241, 70, 15, 54, 11, 139, 25, 24, 932, 10, 16, 933, 71, 9, 92, 8, 25, 24, 93, 31, 6, 1, 78, 3, 223, 1, 96, 97, 3, 224, 167, 210, 167, 13, 168, 23, 47, 5, 48, 8, 110, 8, 934, 3, 15, 16, 5, 225, 3], [241, 70, 15, 54, 11, 139, 25, 24, 932, 10, 16, 933, 71, 9, 92, 8, 25, 24, 93, 31, 6, 1, 78, 3, 223, 1, 96, 97, 3, 224, 167, 210, 167, 13, 168, 23, 47, 5, 48, 8, 110, 8, 934, 3, 15, 16, 5, 225, 3, 45], [70, 15, 54, 11, 139, 25, 24, 932, 10, 16, 933, 71, 9, 92, 8, 25, 24, 93, 31, 6, 1, 78, 3, 223, 1, 96, 97, 3, 224, 167, 210, 167, 13, 168, 23, 47, 5, 48, 8, 110, 8, 934, 3, 15, 16, 5, 225, 3, 45], [15, 54, 11, 139, 25, 24, 932, 10, 16, 933, 71, 9, 92, 8, 25, 24, 93, 31, 6, 1, 78, 3, 223, 1, 96, 97, 3, 224, 167, 210, 167, 13, 168, 23, 47, 5, 48, 8, 110, 8, 934, 3, 15, 16, 5, 225, 3, 45, 17], [54, 11, 139, 25, 24, 932, 10, 16, 933, 71, 9, 92, 8, 25, 24, 93, 31, 6, 1, 78, 3, 223, 1, 96, 97, 3, 224, 167, 210, 167, 13, 168, 23, 47, 5, 48, 8, 110, 8, 934, 3, 15, 16, 5, 225, 3, 45, 17, 26], [11, 139, 25, 24, 932, 10, 16, 933, 71, 9, 92, 8, 25, 24, 93, 31, 6, 1, 78, 3, 223, 1, 96, 97, 3, 224, 167, 210, 167, 13, 168, 23, 47, 5, 48, 8, 110, 8, 934, 3, 15, 16, 5, 225, 3, 45, 17, 26, 28], [139, 25, 24, 932, 10, 16, 933, 71, 9, 92, 8, 25, 24, 93, 31, 6, 1, 78, 3, 223, 1, 96, 97, 3, 224, 167, 210, 167, 13, 168, 23, 47, 5, 48, 8, 110, 8, 934, 3, 15, 16, 5, 225, 3, 45, 17, 26, 28, 17], [25, 24, 932, 10, 16, 933, 71, 9, 92, 8, 25, 24, 93, 31, 6, 1, 78, 3, 223, 1, 96, 97, 3, 224, 167, 210, 167, 13, 168, 23, 47, 5, 48, 8, 110, 8, 934, 3, 15, 16, 5, 225, 3, 45, 17, 26, 28, 17, 1], [24, 932, 10, 16, 933, 71, 9, 92, 8, 25, 24, 93, 31, 6, 1, 78, 3, 223, 1, 96, 97, 3, 224, 167, 210, 167, 13, 168, 23, 47, 5, 48, 8, 110, 8, 934, 3, 15, 16, 5, 225, 3, 45, 17, 26, 28, 17, 1, 60], [932, 10, 16, 933, 71, 9, 92, 8, 25, 24, 93, 31, 6, 1, 78, 3, 223, 1, 96, 97, 3, 224, 167, 210, 167, 13, 168, 23, 47, 5, 48, 8, 110, 8, 934, 3, 15, 16, 5, 225, 3, 45, 17, 26, 28, 17, 1, 60, 8], [10, 16, 933, 71, 9, 92, 8, 25, 24, 93, 31, 6, 1, 78, 3, 223, 1, 96, 97, 3, 224, 167, 210, 167, 13, 168, 23, 47, 5, 48, 8, 110, 8, 934, 3, 15, 16, 5, 225, 3, 45, 17, 26, 28, 17, 1, 60, 8, 21], [16, 933, 71, 9, 92, 8, 25, 24, 93, 31, 6, 1, 78, 3, 223, 1, 96, 97, 3, 224, 167, 210, 167, 13, 168, 23, 47, 5, 48, 8, 110, 8, 934, 3, 15, 16, 5, 225, 3, 45, 17, 26, 28, 17, 1, 60, 8, 21, 145], [933, 71, 9, 92, 8, 25, 24, 93, 31, 6, 1, 78, 3, 223, 1, 96, 97, 3, 224, 167, 210, 167, 13, 168, 23, 47, 5, 48, 8, 110, 8, 934, 3, 15, 16, 5, 225, 3, 45, 17, 26, 28, 17, 1, 60, 8, 21, 145, 72], [71, 9, 92, 8, 25, 24, 93, 31, 6, 1, 78, 3, 223, 1, 96, 97, 3, 224, 167, 210, 167, 13, 168, 23, 47, 5, 48, 8, 110, 8, 934, 3, 15, 16, 5, 225, 3, 45, 17, 26, 28, 17, 1, 60, 8, 21, 145, 72, 593], [9, 92, 8, 25, 24, 93, 31, 6, 1, 78, 3, 223, 1, 96, 97, 3, 224, 167, 210, 167, 13, 168, 23, 47, 5, 48, 8, 110, 8, 934, 3, 15, 16, 5, 225, 3, 45, 17, 26, 28, 17, 1, 60, 8, 21, 145, 72, 593, 28], [92, 8, 25, 24, 93, 31, 6, 1, 78, 3, 223, 1, 96, 97, 3, 224, 167, 210, 167, 13, 168, 23, 47, 5, 48, 8, 110, 8, 934, 3, 15, 16, 5, 225, 3, 45, 17, 26, 28, 17, 1, 60, 8, 21, 145, 72, 593, 28, 47], [8, 25, 24, 93, 31, 6, 1, 78, 3, 223, 1, 96, 97, 3, 224, 167, 210, 167, 13, 168, 23, 47, 5, 48, 8, 110, 8, 934, 3, 15, 16, 5, 225, 3, 45, 17, 26, 28, 17, 1, 60, 8, 21, 145, 72, 593, 28, 47, 1], [25, 24, 93, 31, 6, 1, 78, 3, 223, 1, 96, 97, 3, 224, 167, 210, 167, 13, 168, 23, 47, 5, 48, 8, 110, 8, 934, 3, 15, 16, 5, 225, 3, 45, 17, 26, 28, 17, 1, 60, 8, 21, 145, 72, 593, 28, 47, 1, 96], [24, 93, 31, 6, 1, 78, 3, 223, 1, 96, 97, 3, 224, 167, 210, 167, 13, 168, 23, 47, 5, 48, 8, 110, 8, 934, 3, 15, 16, 5, 225, 3, 45, 17, 26, 28, 17, 1, 60, 8, 21, 145, 72, 593, 28, 47, 1, 96], [93, 31, 6, 1, 78, 3, 223, 1, 96, 97, 3, 224, 167, 210, 167, 13, 168, 23, 47, 5, 48, 8, 110, 8, 934, 3, 15, 16, 5, 225, 3, 45, 17, 26, 28, 17, 1, 60, 8, 21, 145, 72, 593, 28, 47, 1, 96, 157], [31, 6, 1, 78, 3, 223, 1, 96, 97, 3, 224, 167, 210, 167, 13, 168, 23, 47, 5, 48, 8, 110, 8, 934, 3, 15, 16, 5, 225, 3, 45, 17, 26, 28, 17, 1, 60, 8, 21, 145, 72, 593, 28, 47, 1, 96, 157, 4], [6, 1, 78, 3, 223, 1, 96, 97, 3, 224, 167, 210, 167, 13, 168, 23, 47, 5, 48, 8, 110, 8, 934, 3, 15, 16, 5, 225, 3, 45, 17, 26, 28, 17, 1, 60, 8, 21, 145, 72, 593, 28, 47, 1, 96, 157, 4, 449], [1, 78, 3, 223, 1, 96, 97, 3, 224, 167, 210, 167, 13, 168, 23, 47, 5, 48, 8, 110, 8, 934, 3, 15, 16, 5, 225, 3, 45, 17, 26, 28, 17, 1, 60, 8, 21, 145, 72, 593, 28, 47, 1, 96, 157, 4, 449, 31], [78, 3, 223, 1, 96, 97, 3, 224, 167, 210, 167, 13, 168, 23, 47, 5, 48, 8, 110, 8, 934, 3, 15, 16, 5, 225, 3, 45, 17, 26, 28, 17, 1, 60, 8, 21, 145, 72, 593, 28, 47, 1, 96, 157, 4, 449, 31, 6], [3, 223, 1, 96, 97, 3, 224, 167, 210, 167, 13, 168, 23, 47, 5, 48, 8, 110, 8, 934, 3, 15, 16, 5, 225, 3, 45, 17, 26, 28, 17, 1, 60, 8, 21, 145, 72, 593, 28, 47, 1, 96, 157, 4, 449, 31, 6, 65], [223, 1, 96, 97, 3, 224, 167, 210, 167, 13, 168, 23, 47, 5, 48, 8, 110, 8, 934, 3, 15, 16, 5, 225, 3, 45, 17, 26, 28, 17, 1, 60, 8, 21, 145, 72, 593, 28, 47, 1, 96, 157, 4, 449, 31, 6, 65, 935], [1, 96, 97, 3, 224, 167, 210, 167, 13, 168, 23, 47, 5, 48, 8, 110, 8, 934, 3, 15, 16, 5, 225, 3, 45, 17, 26, 28, 17, 1, 60, 8, 21, 145, 72, 593, 28, 47, 1, 96, 157, 4, 449, 31, 6, 65, 935, 2], [96, 97, 3, 224, 167, 210, 167, 13, 168, 23, 47, 5, 48, 8, 110, 8, 934, 3, 15, 16, 5, 225, 3, 45, 17, 26, 28, 17, 1, 60, 8, 21, 145, 72, 593, 28, 47, 1, 96, 157, 4, 449, 31, 6, 65, 935, 2, 85], [97, 3, 224, 167, 210, 167, 13, 168, 23, 47, 5, 48, 8, 110, 8, 934, 3, 15, 16, 5, 225, 3, 45, 17, 26, 28, 17, 1, 60, 8, 21, 145, 72, 593, 28, 47, 1, 96, 157, 4, 449, 31, 6, 65, 935, 2, 85, 17], [3, 224, 167, 210, 167, 13, 168, 23, 47, 5, 48, 8, 110, 8, 934, 3, 15, 16, 5, 225, 3, 45, 17, 26, 28, 17, 1, 60, 8, 21, 145, 72, 593, 28, 47, 1, 96, 157, 4, 449, 31, 6, 65, 935, 2, 85, 17, 8], [224, 167, 210, 167, 13, 168, 23, 47, 5, 48, 8, 110, 8, 934, 3, 15, 16, 5, 225, 3, 45, 17, 26, 28, 17, 1, 60, 8, 21, 145, 72, 593, 28, 47, 1, 96, 157, 4, 449, 31, 6, 65, 935, 2, 85, 17, 8, 2], [167, 210, 167, 13, 168, 23, 47, 5, 48, 8, 110, 8, 934, 3, 15, 16, 5, 225, 3, 45, 17, 26, 28, 17, 1, 60, 8, 21, 145, 72, 593, 28, 47, 1, 96, 157, 4, 449, 31, 6, 65, 935, 2, 85, 17, 8, 2, 55], [210, 167, 13, 168, 23, 47, 5, 48, 8, 110, 8, 934, 3, 15, 16, 5, 225, 3, 45, 17, 26, 28, 17, 1, 60, 8, 21, 145, 72, 593, 28, 47, 1, 96, 157, 4, 449, 31, 6, 65, 935, 2, 85, 17, 8, 2, 55, 282], [167, 13, 168, 23, 47, 5, 48, 8, 110, 8, 934, 3, 15, 16, 5, 225, 3, 45, 17, 26, 28, 17, 1, 60, 8, 21, 145, 72, 593, 28, 47, 1, 96, 157, 4, 449, 31, 6, 65, 935, 2, 85, 17, 8, 2, 55, 282, 18], [13, 168, 23, 47, 5, 48, 8, 110, 8, 934, 3, 15, 16, 5, 225, 3, 45, 17, 26, 28, 17, 1, 60, 8, 21, 145, 72, 593, 28, 47, 1, 96, 157, 4, 449, 31, 6, 65, 935, 2, 85, 17, 8, 2, 55, 282, 18, 9], [168, 23, 47, 5, 48, 8, 110, 8, 934, 3, 15, 16, 5, 225, 3, 45, 17, 26, 28, 17, 1, 60, 8, 21, 145, 72, 593, 28, 47, 1, 96, 157, 4, 449, 31, 6, 65, 935, 2, 85, 17, 8, 2, 55, 282, 18, 9, 936], [23, 47, 5, 48, 8, 110, 8, 934, 3, 15, 16, 5, 225, 3, 45, 17, 26, 28, 17, 1, 60, 8, 21, 145, 72, 593, 28, 47, 1, 96, 157, 4, 449, 31, 6, 65, 935, 2, 85, 17, 8, 2, 55, 282, 18, 9, 936, 3], [47, 5, 48, 8, 110, 8, 934, 3, 15, 16, 5, 225, 3, 45, 17, 26, 28, 17, 1, 60, 8, 21, 145, 72, 593, 28, 47, 1, 96, 157, 4, 449, 31, 6, 65, 935, 2, 85, 17, 8, 2, 55, 282, 18, 9, 936, 3, 15], [5, 48, 8, 110, 8, 934, 3, 15, 16, 5, 225, 3, 45, 17, 26, 28, 17, 1, 60, 8, 21, 145, 72, 593, 28, 47, 1, 96, 157, 4, 449, 31, 6, 65, 935, 2, 85, 17, 8, 2, 55, 282, 18, 9, 936, 3, 15, 186], [48, 8, 110, 8, 934, 3, 15, 16, 5, 225, 3, 45, 17, 26, 28, 17, 1, 60, 8, 21, 145, 72, 593, 28, 47, 1, 96, 157, 4, 449, 31, 6, 65, 935, 2, 85, 17, 8, 2, 55, 282, 18, 9, 936, 3, 15, 186, 22], [8, 110, 8, 934, 3, 15, 16, 5, 225, 3, 45, 17, 26, 28, 17, 1, 60, 8, 21, 145, 72, 593, 28, 47, 1, 96, 157, 4, 449, 31, 6, 65, 935, 2, 85, 17, 8, 2, 55, 282, 18, 9, 936, 3, 15, 186, 22, 8], [110, 8, 934, 3, 15, 16, 5, 225, 3, 45, 17, 26, 28, 17, 1, 60, 8, 21, 145, 72, 593, 28, 47, 1, 96, 157, 4, 449, 31, 6, 65, 935, 2, 85, 17, 8, 2, 55, 282, 18, 9, 936, 3, 15, 186, 22, 8], [8, 934, 3, 15, 16, 5, 225, 3, 45, 17, 26, 28, 17, 1, 60, 8, 21, 145, 72, 593, 28, 47, 1, 96, 157, 4, 449, 31, 6, 65, 935, 2, 85, 17, 8, 2, 55, 282, 18, 9, 936, 3, 15, 186, 22, 8, 511], [8, 934, 3, 15, 16, 5, 225, 3, 45, 17, 26, 28, 17, 1, 60, 8, 21, 145, 72, 593, 28, 47, 1, 96, 157, 4, 449, 31, 6, 65, 935, 2, 85, 17, 8, 2, 55, 282, 18, 9, 936, 3, 15, 186, 22, 8, 511, 15], [934, 3, 15, 16, 5, 225, 3, 45, 17, 26, 28, 17, 1, 60, 8, 21, 145, 72, 593, 28, 47, 1, 96, 157, 4, 449, 31, 6, 65, 935, 2, 85, 17, 8, 2, 55, 282, 18, 9, 936, 3, 15, 186, 22, 8, 511, 15, 408], [3, 15, 16, 5, 225, 3, 45, 17, 26, 28, 17, 1, 60, 8, 21, 145, 72, 593, 28, 47, 1, 96, 157, 4, 449, 31, 6, 65, 935, 2, 85, 17, 8, 2, 55, 282, 18, 9, 936, 3, 15, 186, 22, 8, 511, 15, 408, 16], [15, 16, 5, 225, 3, 45, 17, 26, 28, 17, 1, 60, 8, 21, 145, 72, 593, 28, 47, 1, 96, 157, 4, 449, 31, 6, 65, 935, 2, 85, 17, 8, 2, 55, 282, 18, 9, 936, 3, 15, 186, 22, 8, 511, 15, 408, 16, 5], [16, 5, 225, 3, 45, 17, 26, 28, 17, 1, 60, 8, 21, 145, 72, 593, 28, 47, 1, 96, 157, 4, 449, 31, 6, 65, 935, 2, 85, 17, 8, 2, 55, 282, 18, 9, 936, 3, 15, 186, 22, 8, 511, 15, 408, 16, 5, 19], [5, 225, 3, 45, 17, 26, 28, 17, 1, 60, 8, 21, 145, 72, 593, 28, 47, 1, 96, 157, 4, 449, 31, 6, 65, 935, 2, 85, 17, 8, 2, 55, 282, 18, 9, 936, 3, 15, 186, 22, 8, 511, 15, 408, 16, 5, 19, 98], [225, 3, 45, 17, 26, 28, 17, 1, 60, 8, 21, 145, 72, 593, 28, 47, 1, 96, 157, 4, 449, 31, 6, 65, 935, 2, 85, 17, 8, 2, 55, 282, 18, 9, 936, 3, 15, 186, 22, 8, 511, 15, 408, 16, 5, 19, 98, 118], [3, 45, 17, 26, 28, 17, 1, 60, 8, 21, 145, 72, 593, 28, 47, 1, 96, 157, 4, 449, 31, 6, 65, 935, 2, 85, 17, 8, 2, 55, 282, 18, 9, 936, 3, 15, 186, 22, 8, 511, 15, 408, 16, 5, 19, 98, 118, 226], [45, 17, 26, 28, 17, 1, 60, 8, 21, 145, 72, 593, 28, 47, 1, 96, 157, 4, 449, 31, 6, 65, 935, 2, 85, 17, 8, 2, 55, 282, 18, 9, 936, 3, 15, 186, 22, 8, 511, 15, 408, 16, 5, 19, 98, 118, 226, 4], [17, 26, 28, 17, 1, 60, 8, 21, 145, 72, 593, 28, 47, 1, 96, 157, 4, 449, 31, 6, 65, 935, 2, 85, 17, 8, 2, 55, 282, 18, 9, 936, 3, 15, 186, 22, 8, 511, 15, 408, 16, 5, 19, 98, 118, 226, 4, 96], [17, 26, 28, 17, 1, 60, 8, 21, 145, 72, 593, 28, 47, 1, 96, 157, 4, 449, 31, 6, 65, 935, 2, 85, 17, 8, 2, 55, 282, 18, 9, 936, 3, 15, 186, 22, 8, 511, 15, 408, 16, 5, 19, 98, 118, 226, 4, 96, 20], [26, 28, 17, 1, 60, 8, 21, 145, 72, 593, 28, 47, 1, 96, 157, 4, 449, 31, 6, 65, 935, 2, 85, 17, 8, 2, 55, 282, 18, 9, 936, 3, 15, 186, 22, 8, 511, 15, 408, 16, 5, 19, 98, 118, 226, 4, 96, 20, 366], [28, 17, 1, 60, 8, 21, 145, 72, 593, 28, 47, 1, 96, 157, 4, 449, 31, 6, 65, 935, 2, 85, 17, 8, 2, 55, 282, 18, 9, 936, 3, 15, 186, 22, 8, 511, 15, 408, 16, 5, 19, 98, 118, 226, 4, 96, 20, 366, 4], [17, 1, 60, 8, 21, 145, 72, 593, 28, 47, 1, 96, 157, 4, 449, 31, 6, 65, 935, 2, 85, 17, 8, 2, 55, 282, 18, 9, 936, 3, 15, 186, 22, 8, 511, 15, 408, 16, 5, 19, 98, 118, 226, 4, 96, 20, 366, 4, 935], [1, 60, 8, 21, 145, 72, 593, 28, 47, 1, 96, 157, 4, 449, 31, 6, 65, 935, 2, 85, 17, 8, 2, 55, 282, 18, 9, 936, 3, 15, 186, 22, 8, 511, 15, 408, 16, 5, 19, 98, 118, 226, 4, 96, 20, 366, 4, 935, 52], [60, 8, 21, 145, 72, 593, 28, 47, 1, 96, 157, 4, 449, 31, 6, 65, 935, 2, 85, 17, 8, 2, 55, 282, 18, 9, 936, 3, 15, 186, 22, 8, 511, 15, 408, 16, 5, 19, 98, 118, 226, 4, 96, 20, 366, 4, 935, 52, 4], [8, 21, 145, 72, 593, 28, 47, 1, 96, 157, 4, 449, 31, 6, 65, 935, 2, 85, 17, 8, 2, 55, 282, 18, 9, 936, 3, 15, 186, 22, 8, 511, 15, 408, 16, 5, 19, 98, 118, 226, 4, 96, 20, 366, 4, 935, 52, 4, 449], [21, 145, 72, 593, 28, 47, 1, 96, 157, 4, 449, 31, 6, 65, 935, 2, 85, 17, 8, 2, 55, 282, 18, 9, 936, 3, 15, 186, 22, 8, 511, 15, 408, 16, 5, 19, 98, 118, 226, 4, 96, 20, 366, 4, 935, 52, 4, 449, 3], [145, 72, 593, 28, 47, 1, 96, 157, 4, 449, 31, 6, 65, 935, 2, 85, 17, 8, 2, 55, 282, 18, 9, 936, 3, 15, 186, 22, 8, 511, 15, 408, 16, 5, 19, 98, 118, 226, 4, 96, 20, 366, 4, 935, 52, 4, 449, 3, 181], [72, 593, 28, 47, 1, 96, 157, 4, 449, 31, 6, 65, 935, 2, 85, 17, 8, 2, 55, 282, 18, 9, 936, 3, 15, 186, 22, 8, 511, 15, 408, 16, 5, 19, 98, 118, 226, 4, 96, 20, 366, 4, 935, 52, 4, 449, 3, 181, 31], [593, 28, 47, 1, 96, 157, 4, 449, 31, 6, 65, 935, 2, 85, 17, 8, 2, 55, 282, 18, 9, 936, 3, 15, 186, 22, 8, 511, 15, 408, 16, 5, 19, 98, 118, 226, 4, 96, 20, 366, 4, 935, 52, 4, 449, 3, 181, 31, 6], [28, 47, 1, 96, 157, 4, 449, 31, 6, 65, 935, 2, 85, 17, 8, 2, 55, 282, 18, 9, 936, 3, 15, 186, 22, 8, 511, 15, 408, 16, 5, 19, 98, 118, 226, 4, 96, 20, 366, 4, 935, 52, 4, 449, 3, 181, 31, 6, 8], [47, 1, 96, 157, 4, 449, 31, 6, 65, 935, 2, 85, 17, 8, 2, 55, 282, 18, 9, 936, 3, 15, 186, 22, 8, 511, 15, 408, 16, 5, 19, 98, 118, 226, 4, 96, 20, 366, 4, 935, 52, 4, 449, 3, 181, 31, 6, 8, 2], [1, 96, 157, 4, 449, 31, 6, 65, 935, 2, 85, 17, 8, 2, 55, 282, 18, 9, 936, 3, 15, 186, 22, 8, 511, 15, 408, 16, 5, 19, 98, 118, 226, 4, 96, 20, 366, 4, 935, 52, 4, 449, 3, 181, 31, 6, 8, 2], [96, 157, 4, 449, 31, 6, 65, 935, 2, 85, 17, 8, 2, 55, 282, 18, 9, 936, 3, 15, 186, 22, 8, 511, 15, 408, 16, 5, 19, 98, 118, 226, 4, 96, 20, 366, 4, 935, 52, 4, 449, 3, 181, 31, 6, 8, 2, 20], [157, 4, 449, 31, 6, 65, 935, 2, 85, 17, 8, 2, 55, 282, 18, 9, 936, 3, 15, 186, 22, 8, 511, 15, 408, 16, 5, 19, 98, 118, 226, 4, 96, 20, 366, 4, 935, 52, 4, 449, 3, 181, 31, 6, 8, 2, 20, 512], [157, 4, 449, 31, 6, 65, 935, 2, 85, 17, 8, 2, 55, 282, 18, 9, 936, 3, 15, 186, 22, 8, 511, 15, 408, 16, 5, 19, 98, 118, 226, 4, 96, 20, 366, 4, 935, 52, 4, 449, 3, 181, 31, 6, 8, 2, 20, 512, 5], [4, 449, 31, 6, 65, 935, 2, 85, 17, 8, 2, 55, 282, 18, 9, 936, 3, 15, 186, 22, 8, 511, 15, 408, 16, 5, 19, 98, 118, 226, 4, 96, 20, 366, 4, 935, 52, 4, 449, 3, 181, 31, 6, 8, 2, 20, 512, 5, 203], [449, 31, 6, 65, 935, 2, 85, 17, 8, 2, 55, 282, 18, 9, 936, 3, 15, 186, 22, 8, 511, 15, 408, 16, 5, 19, 98, 118, 226, 4, 96, 20, 366, 4, 935, 52, 4, 449, 3, 181, 31, 6, 8, 2, 20, 512, 5, 203, 511], [31, 6, 65, 935, 2, 85, 17, 8, 2, 55, 282, 18, 9, 936, 3, 15, 186, 22, 8, 511, 15, 408, 16, 5, 19, 98, 118, 226, 4, 96, 20, 366, 4, 935, 52, 4, 449, 3, 181, 31, 6, 8, 2, 20, 512, 5, 203, 511, 1], [6, 65, 935, 2, 85, 17, 8, 2, 55, 282, 18, 9, 936, 3, 15, 186, 22, 8, 511, 15, 408, 16, 5, 19, 98, 118, 226, 4, 96, 20, 366, 4, 935, 52, 4, 449, 3, 181, 31, 6, 8, 2, 20, 512, 5, 203, 511, 1], [65, 935, 2, 85, 17, 8, 2, 55, 282, 18, 9, 936, 3, 15, 186, 22, 8, 511, 15, 408, 16, 5, 19, 98, 118, 226, 4, 96, 20, 366, 4, 935, 52, 4, 449, 3, 181, 31, 6, 8, 2, 20, 512, 5, 203, 511, 1, 99], [935, 2, 85, 17, 8, 2, 55, 282, 18, 9, 936, 3, 15, 186, 22, 8, 511, 15, 408, 16, 5, 19, 98, 118, 226, 4, 96, 20, 366, 4, 935, 52, 4, 449, 3, 181, 31, 6, 8, 2, 20, 512, 5, 203, 511, 1, 99, 8], [2, 85, 17, 8, 2, 55, 282, 18, 9, 936, 3, 15, 186, 22, 8, 511, 15, 408, 16, 5, 19, 98, 118, 226, 4, 96, 20, 366, 4, 935, 52, 4, 449, 3, 181, 31, 6, 8, 2, 20, 512, 5, 203, 511, 1, 99, 8, 2], [85, 17, 8, 2, 55, 282, 18, 9, 936, 3, 15, 186, 22, 8, 511, 15, 408, 16, 5, 19, 98, 118, 226, 4, 96, 20, 366, 4, 935, 52, 4, 449, 3, 181, 31, 6, 8, 2, 20, 512, 5, 203, 511, 1, 99, 8, 2], [17, 8, 2, 55, 282, 18, 9, 936, 3, 15, 186, 22, 8, 511, 15, 408, 16, 5, 19, 98, 118, 226, 4, 96, 20, 366, 4, 935, 52, 4, 449, 3, 181, 31, 6, 8, 2, 20, 512, 5, 203, 511, 1, 99, 8, 2, 11], [8, 2, 55, 282, 18, 9, 936, 3, 15, 186, 22, 8, 511, 15, 408, 16, 5, 19, 98, 118, 226, 4, 96, 20, 366, 4, 935, 52, 4, 449, 3, 181, 31, 6, 8, 2, 20, 512, 5, 203, 511, 1, 99, 8, 2, 11, 81], [2, 55, 282, 18, 9, 936, 3, 15, 186, 22, 8, 511, 15, 408, 16, 5, 19, 98, 118, 226, 4, 96, 20, 366, 4, 935, 52, 4, 449, 3, 181, 31, 6, 8, 2, 20, 512, 5, 203, 511, 1, 99, 8, 2, 11, 81, 10], [55, 282, 18, 9, 936, 3, 15, 186, 22, 8, 511, 15, 408, 16, 5, 19, 98, 118, 226, 4, 96, 20, 366, 4, 935, 52, 4, 449, 3, 181, 31, 6, 8, 2, 20, 512, 5, 203, 511, 1, 99, 8, 2, 11, 81, 10, 60], [282, 18, 9, 936, 3, 15, 186, 22, 8, 511, 15, 408, 16, 5, 19, 98, 118, 226, 4, 96, 20, 366, 4, 935, 52, 4, 449, 3, 181, 31, 6, 8, 2, 20, 512, 5, 203, 511, 1, 99, 8, 2, 11, 81, 10, 60, 3], [18, 9, 936, 3, 15, 186, 22, 8, 511, 15, 408, 16, 5, 19, 98, 118, 226, 4, 96, 20, 366, 4, 935, 52, 4, 449, 3, 181, 31, 6, 8, 2, 20, 512, 5, 203, 511, 1, 99, 8, 2, 11, 81, 10, 60, 3, 58], [9, 936, 3, 15, 186, 22, 8, 511, 15, 408, 16, 5, 19, 98, 118, 226, 4, 96, 20, 366, 4, 935, 52, 4, 449, 3, 181, 31, 6, 8, 2, 20, 512, 5, 203, 511, 1, 99, 8, 2, 11, 81, 10, 60, 3, 58, 8], [936, 3, 15, 186, 22, 8, 511, 15, 408, 16, 5, 19, 98, 118, 226, 4, 96, 20, 366, 4, 935, 52, 4, 449, 3, 181, 31, 6, 8, 2, 20, 512, 5, 203, 511, 1, 99, 8, 2, 11, 81, 10, 60, 3, 58, 8], [3, 15, 186, 22, 8, 511, 15, 408, 16, 5, 19, 98, 118, 226, 4, 96, 20, 366, 4, 935, 52, 4, 449, 3, 181, 31, 6, 8, 2, 20, 512, 5, 203, 511, 1, 99, 8, 2, 11, 81, 10, 60, 3, 58, 8, 33], [15, 186, 22, 8, 511, 15, 408, 16, 5, 19, 98, 118, 226, 4, 96, 20, 366, 4, 935, 52, 4, 449, 3, 181, 31, 6, 8, 2, 20, 512, 5, 203, 511, 1, 99, 8, 2, 11, 81, 10, 60, 3, 58, 8, 33, 4], [186, 22, 8, 511, 15, 408, 16, 5, 19, 98, 118, 226, 4, 96, 20, 366, 4, 935, 52, 4, 449, 3, 181, 31, 6, 8, 2, 20, 512, 5, 203, 511, 1, 99, 8, 2, 11, 81, 10, 60, 3, 58, 8, 33, 4, 119], [22, 8, 511, 15, 408, 16, 5, 19, 98, 118, 226, 4, 96, 20, 366, 4, 935, 52, 4, 449, 3, 181, 31, 6, 8, 2, 20, 512, 5, 203, 511, 1, 99, 8, 2, 11, 81, 10, 60, 3, 58, 8, 33, 4, 119, 937], [8, 511, 15, 408, 16, 5, 19, 98, 118, 226, 4, 96, 20, 366, 4, 935, 52, 4, 449, 3, 181, 31, 6, 8, 2, 20, 512, 5, 203, 511, 1, 99, 8, 2, 11, 81, 10, 60, 3, 58, 8, 33, 4, 119, 937, 204], [511, 15, 408, 16, 5, 19, 98, 118, 226, 4, 96, 20, 366, 4, 935, 52, 4, 449, 3, 181, 31, 6, 8, 2, 20, 512, 5, 203, 511, 1, 99, 8, 2, 11, 81, 10, 60, 3, 58, 8, 33, 4, 119, 937, 204, 1], [511, 15, 408, 16, 5, 19, 98, 118, 226, 4, 96, 20, 366, 4, 935, 52, 4, 449, 3, 181, 31, 6, 8, 2, 20, 512, 5, 203, 511, 1, 99, 8, 2, 11, 81, 10, 60, 3, 58, 8, 33, 4, 119, 937, 204, 1], [15, 408, 16, 5, 19, 98, 118, 226, 4, 96, 20, 366, 4, 935, 52, 4, 449, 3, 181, 31, 6, 8, 2, 20, 512, 5, 203, 511, 1, 99, 8, 2, 11, 81, 10, 60, 3, 58, 8, 33, 4, 119, 937, 204, 1, 10], [408, 16, 5, 19, 98, 118, 226, 4, 96, 20, 366, 4, 935, 52, 4, 449, 3, 181, 31, 6, 8, 2, 20, 512, 5, 203, 511, 1, 99, 8, 2, 11, 81, 10, 60, 3, 58, 8, 33, 4, 119, 937, 204, 1, 10, 169], [16, 5, 19, 98, 118, 226, 4, 96, 20, 366, 4, 935, 52, 4, 449, 3, 181, 31, 6, 8, 2, 20, 512, 5, 203, 511, 1, 99, 8, 2, 11, 81, 10, 60, 3, 58, 8, 33, 4, 119, 937, 204, 1, 10, 169, 140]]\n"
          ]
        }
      ],
      "source": [
        "in_filename = 'Sequences.txt'\n",
        "doc = load_doc(in_filename)\n",
        "lines = doc.split('\\n')\n",
        "tokenizer = tf.keras.preprocessing.text.Tokenizer(num_words=1000)\n",
        "tokenizer.fit_on_texts(lines)\n",
        "sequences = tokenizer.texts_to_sequences(lines)\n",
        "print(sequences[:200])\n",
        "vocab_size = len(tokenizer.word_index) + 1\n",
        "\n",
        "sequences = pad_sequences(sequences, padding='post')\n",
        "X, y = sequences[:,:-1], sequences[:,-1]\n",
        "y = to_categorical(y, num_classes=vocab_size)\n",
        "seq_length = X.shape[1]"
      ]
    },
    {
      "cell_type": "markdown",
      "source": [
        "## Custom weighted categorical crossentropy loss function"
      ],
      "metadata": {
        "id": "VtxN1UdArR56"
      }
    },
    {
      "cell_type": "markdown",
      "source": [
        "didn't end up using in model"
      ],
      "metadata": {
        "id": "CxBSrWz_5mYA"
      }
    },
    {
      "cell_type": "code",
      "source": [
        "import tensorflow.keras.backend as K\n",
        "# calculate class weights\n",
        "token_counts = Counter(sequences[:,-1])\n",
        "total_tokens = sum(token_counts.values())\n",
        "class_weights = {token: total_tokens / (len(token_counts) * count) for token, count in token_counts.items()}\n",
        "\n",
        "# normalize weights\n",
        "max_weights = max(class_weights.values())\n",
        "class_weights = {token: weight / max_weights for token, weight in class_weights.items()}\n",
        "\n",
        "# assign default weight to missing tokens\n",
        "default_weight = 1.0\n",
        "class_weights = {i: class_weights.get(i, default_weight) for i in range(vocab_size)}\n",
        "\n",
        "# weighted categorical cross-entropy function\n",
        "def weighted_loss(class_weights):\n",
        "  def loss_function(y_true, y_pred):\n",
        "    weights = K.constant([class_weights[i] for i in range(len(class_weights))])\n",
        "    y_true = K.cast(y_true, dtype=tf.float32)\n",
        "    sample_weights = K.sum(y_true * weights, axis=-1)\n",
        "    return K.mean(sample_weights * K.categorical_crossentropy(y_true, y_pred))\n",
        "  return loss_function"
      ],
      "metadata": {
        "id": "VqrwQV6SGt0q"
      },
      "execution_count": null,
      "outputs": []
    },
    {
      "cell_type": "markdown",
      "metadata": {
        "id": "3QBN6y2X1v11"
      },
      "source": [
        "# LSTM Model"
      ]
    },
    {
      "cell_type": "code",
      "source": [
        "LSTMmodel = Sequential()\n",
        "LSTMmodel.add(LSTM(128, input_shape=(X.shape[1], 1), return_sequences=True, kernel_regularizer=regularizers.l2(0.01)))\n",
        "LSTMmodel.add(Dropout(0.3))\n",
        "LSTMmodel.add(LSTM(64, return_sequences=False))\n",
        "LSTMmodel.add(Dense(vocab_size, activation='softmax'))\n",
        "LSTMmodel.compile(loss=\"categorical_crossentropy\", optimizer=Adam(learning_rate=0.001), metrics=['val_accuracy'])"
      ],
      "metadata": {
        "id": "XkcHORPEDh0W"
      },
      "execution_count": 53,
      "outputs": []
    },
    {
      "cell_type": "code",
      "source": [
        "LSTMmodel.summary()"
      ],
      "metadata": {
        "colab": {
          "base_uri": "https://localhost:8080/",
          "height": 257
        },
        "id": "I0Nq9nKuxT3P",
        "outputId": "624e19ea-f531-458f-dd3f-3f1a90ca6f26"
      },
      "execution_count": 54,
      "outputs": [
        {
          "output_type": "display_data",
          "data": {
            "text/plain": [
              "\u001b[1mModel: \"sequential_18\"\u001b[0m\n"
            ],
            "text/html": [
              "<pre style=\"white-space:pre;overflow-x:auto;line-height:normal;font-family:Menlo,'DejaVu Sans Mono',consolas,'Courier New',monospace\"><span style=\"font-weight: bold\">Model: \"sequential_18\"</span>\n",
              "</pre>\n"
            ]
          },
          "metadata": {}
        },
        {
          "output_type": "display_data",
          "data": {
            "text/plain": [
              "┏━━━━━━━━━━━━━━━━━━━━━━━━━━━━━━━━━━━━━━┳━━━━━━━━━━━━━━━━━━━━━━━━━━━━━┳━━━━━━━━━━━━━━━━━┓\n",
              "┃\u001b[1m \u001b[0m\u001b[1mLayer (type)                        \u001b[0m\u001b[1m \u001b[0m┃\u001b[1m \u001b[0m\u001b[1mOutput Shape               \u001b[0m\u001b[1m \u001b[0m┃\u001b[1m \u001b[0m\u001b[1m        Param #\u001b[0m\u001b[1m \u001b[0m┃\n",
              "┡━━━━━━━━━━━━━━━━━━━━━━━━━━━━━━━━━━━━━━╇━━━━━━━━━━━━━━━━━━━━━━━━━━━━━╇━━━━━━━━━━━━━━━━━┩\n",
              "│ lstm_27 (\u001b[38;5;33mLSTM\u001b[0m)                       │ (\u001b[38;5;45mNone\u001b[0m, \u001b[38;5;34m50\u001b[0m, \u001b[38;5;34m128\u001b[0m)             │          \u001b[38;5;34m66,560\u001b[0m │\n",
              "├──────────────────────────────────────┼─────────────────────────────┼─────────────────┤\n",
              "│ dropout_16 (\u001b[38;5;33mDropout\u001b[0m)                 │ (\u001b[38;5;45mNone\u001b[0m, \u001b[38;5;34m50\u001b[0m, \u001b[38;5;34m128\u001b[0m)             │               \u001b[38;5;34m0\u001b[0m │\n",
              "├──────────────────────────────────────┼─────────────────────────────┼─────────────────┤\n",
              "│ lstm_28 (\u001b[38;5;33mLSTM\u001b[0m)                       │ (\u001b[38;5;45mNone\u001b[0m, \u001b[38;5;34m64\u001b[0m)                  │          \u001b[38;5;34m49,408\u001b[0m │\n",
              "├──────────────────────────────────────┼─────────────────────────────┼─────────────────┤\n",
              "│ dense_16 (\u001b[38;5;33mDense\u001b[0m)                     │ (\u001b[38;5;45mNone\u001b[0m, \u001b[38;5;34m2418\u001b[0m)                │         \u001b[38;5;34m157,170\u001b[0m │\n",
              "└──────────────────────────────────────┴─────────────────────────────┴─────────────────┘\n"
            ],
            "text/html": [
              "<pre style=\"white-space:pre;overflow-x:auto;line-height:normal;font-family:Menlo,'DejaVu Sans Mono',consolas,'Courier New',monospace\">┏━━━━━━━━━━━━━━━━━━━━━━━━━━━━━━━━━━━━━━┳━━━━━━━━━━━━━━━━━━━━━━━━━━━━━┳━━━━━━━━━━━━━━━━━┓\n",
              "┃<span style=\"font-weight: bold\"> Layer (type)                         </span>┃<span style=\"font-weight: bold\"> Output Shape                </span>┃<span style=\"font-weight: bold\">         Param # </span>┃\n",
              "┡━━━━━━━━━━━━━━━━━━━━━━━━━━━━━━━━━━━━━━╇━━━━━━━━━━━━━━━━━━━━━━━━━━━━━╇━━━━━━━━━━━━━━━━━┩\n",
              "│ lstm_27 (<span style=\"color: #0087ff; text-decoration-color: #0087ff\">LSTM</span>)                       │ (<span style=\"color: #00d7ff; text-decoration-color: #00d7ff\">None</span>, <span style=\"color: #00af00; text-decoration-color: #00af00\">50</span>, <span style=\"color: #00af00; text-decoration-color: #00af00\">128</span>)             │          <span style=\"color: #00af00; text-decoration-color: #00af00\">66,560</span> │\n",
              "├──────────────────────────────────────┼─────────────────────────────┼─────────────────┤\n",
              "│ dropout_16 (<span style=\"color: #0087ff; text-decoration-color: #0087ff\">Dropout</span>)                 │ (<span style=\"color: #00d7ff; text-decoration-color: #00d7ff\">None</span>, <span style=\"color: #00af00; text-decoration-color: #00af00\">50</span>, <span style=\"color: #00af00; text-decoration-color: #00af00\">128</span>)             │               <span style=\"color: #00af00; text-decoration-color: #00af00\">0</span> │\n",
              "├──────────────────────────────────────┼─────────────────────────────┼─────────────────┤\n",
              "│ lstm_28 (<span style=\"color: #0087ff; text-decoration-color: #0087ff\">LSTM</span>)                       │ (<span style=\"color: #00d7ff; text-decoration-color: #00d7ff\">None</span>, <span style=\"color: #00af00; text-decoration-color: #00af00\">64</span>)                  │          <span style=\"color: #00af00; text-decoration-color: #00af00\">49,408</span> │\n",
              "├──────────────────────────────────────┼─────────────────────────────┼─────────────────┤\n",
              "│ dense_16 (<span style=\"color: #0087ff; text-decoration-color: #0087ff\">Dense</span>)                     │ (<span style=\"color: #00d7ff; text-decoration-color: #00d7ff\">None</span>, <span style=\"color: #00af00; text-decoration-color: #00af00\">2418</span>)                │         <span style=\"color: #00af00; text-decoration-color: #00af00\">157,170</span> │\n",
              "└──────────────────────────────────────┴─────────────────────────────┴─────────────────┘\n",
              "</pre>\n"
            ]
          },
          "metadata": {}
        },
        {
          "output_type": "display_data",
          "data": {
            "text/plain": [
              "\u001b[1m Total params: \u001b[0m\u001b[38;5;34m273,138\u001b[0m (1.04 MB)\n"
            ],
            "text/html": [
              "<pre style=\"white-space:pre;overflow-x:auto;line-height:normal;font-family:Menlo,'DejaVu Sans Mono',consolas,'Courier New',monospace\"><span style=\"font-weight: bold\"> Total params: </span><span style=\"color: #00af00; text-decoration-color: #00af00\">273,138</span> (1.04 MB)\n",
              "</pre>\n"
            ]
          },
          "metadata": {}
        },
        {
          "output_type": "display_data",
          "data": {
            "text/plain": [
              "\u001b[1m Trainable params: \u001b[0m\u001b[38;5;34m273,138\u001b[0m (1.04 MB)\n"
            ],
            "text/html": [
              "<pre style=\"white-space:pre;overflow-x:auto;line-height:normal;font-family:Menlo,'DejaVu Sans Mono',consolas,'Courier New',monospace\"><span style=\"font-weight: bold\"> Trainable params: </span><span style=\"color: #00af00; text-decoration-color: #00af00\">273,138</span> (1.04 MB)\n",
              "</pre>\n"
            ]
          },
          "metadata": {}
        },
        {
          "output_type": "display_data",
          "data": {
            "text/plain": [
              "\u001b[1m Non-trainable params: \u001b[0m\u001b[38;5;34m0\u001b[0m (0.00 B)\n"
            ],
            "text/html": [
              "<pre style=\"white-space:pre;overflow-x:auto;line-height:normal;font-family:Menlo,'DejaVu Sans Mono',consolas,'Courier New',monospace\"><span style=\"font-weight: bold\"> Non-trainable params: </span><span style=\"color: #00af00; text-decoration-color: #00af00\">0</span> (0.00 B)\n",
              "</pre>\n"
            ]
          },
          "metadata": {}
        }
      ]
    },
    {
      "cell_type": "code",
      "execution_count": 55,
      "metadata": {
        "colab": {
          "base_uri": "https://localhost:8080/"
        },
        "id": "2WNuC6d-bO-y",
        "outputId": "7397d0da-7c4e-4fa9-c99c-5d5e03887989"
      },
      "outputs": [
        {
          "output_type": "stream",
          "name": "stdout",
          "text": [
            "Epoch 1/20\n",
            "\u001b[1m147/147\u001b[0m \u001b[32m━━━━━━━━━━━━━━━━━━━━\u001b[0m\u001b[37m\u001b[0m \u001b[1m40s\u001b[0m 252ms/step - accuracy: 0.0646 - loss: 6.5040 - val_accuracy: 0.0781 - val_loss: 5.4964\n",
            "Epoch 2/20\n",
            "\u001b[1m147/147\u001b[0m \u001b[32m━━━━━━━━━━━━━━━━━━━━\u001b[0m\u001b[37m\u001b[0m \u001b[1m38s\u001b[0m 257ms/step - accuracy: 0.0750 - loss: 5.4134 - val_accuracy: 0.0781 - val_loss: 5.5017\n",
            "Epoch 3/20\n",
            "\u001b[1m147/147\u001b[0m \u001b[32m━━━━━━━━━━━━━━━━━━━━\u001b[0m\u001b[37m\u001b[0m \u001b[1m35s\u001b[0m 238ms/step - accuracy: 0.0726 - loss: 5.4006 - val_accuracy: 0.0781 - val_loss: 5.4835\n",
            "Epoch 4/20\n",
            "\u001b[1m147/147\u001b[0m \u001b[32m━━━━━━━━━━━━━━━━━━━━\u001b[0m\u001b[37m\u001b[0m \u001b[1m37s\u001b[0m 250ms/step - accuracy: 0.0755 - loss: 5.3703 - val_accuracy: 0.0781 - val_loss: 5.4672\n",
            "Epoch 5/20\n",
            "\u001b[1m147/147\u001b[0m \u001b[32m━━━━━━━━━━━━━━━━━━━━\u001b[0m\u001b[37m\u001b[0m \u001b[1m40s\u001b[0m 245ms/step - accuracy: 0.0745 - loss: 5.3407 - val_accuracy: 0.0781 - val_loss: 5.4663\n",
            "Epoch 6/20\n",
            "\u001b[1m147/147\u001b[0m \u001b[32m━━━━━━━━━━━━━━━━━━━━\u001b[0m\u001b[37m\u001b[0m \u001b[1m42s\u001b[0m 254ms/step - accuracy: 0.0718 - loss: 5.3530 - val_accuracy: 0.0781 - val_loss: 5.4543\n",
            "Epoch 7/20\n",
            "\u001b[1m147/147\u001b[0m \u001b[32m━━━━━━━━━━━━━━━━━━━━\u001b[0m\u001b[37m\u001b[0m \u001b[1m41s\u001b[0m 255ms/step - accuracy: 0.0722 - loss: 5.3261 - val_accuracy: 0.0785 - val_loss: 5.4498\n",
            "Epoch 8/20\n",
            "\u001b[1m147/147\u001b[0m \u001b[32m━━━━━━━━━━━━━━━━━━━━\u001b[0m\u001b[37m\u001b[0m \u001b[1m40s\u001b[0m 252ms/step - accuracy: 0.0739 - loss: 5.3136 - val_accuracy: 0.0781 - val_loss: 5.4419\n",
            "Epoch 9/20\n",
            "\u001b[1m147/147\u001b[0m \u001b[32m━━━━━━━━━━━━━━━━━━━━\u001b[0m\u001b[37m\u001b[0m \u001b[1m41s\u001b[0m 255ms/step - accuracy: 0.0707 - loss: 5.2862 - val_accuracy: 0.0924 - val_loss: 5.4273\n",
            "Epoch 10/20\n",
            "\u001b[1m147/147\u001b[0m \u001b[32m━━━━━━━━━━━━━━━━━━━━\u001b[0m\u001b[37m\u001b[0m \u001b[1m41s\u001b[0m 253ms/step - accuracy: 0.0726 - loss: 5.2639 - val_accuracy: 0.0828 - val_loss: 5.4320\n",
            "Epoch 11/20\n",
            "\u001b[1m147/147\u001b[0m \u001b[32m━━━━━━━━━━━━━━━━━━━━\u001b[0m\u001b[37m\u001b[0m \u001b[1m39s\u001b[0m 241ms/step - accuracy: 0.0707 - loss: 5.2617 - val_accuracy: 0.1007 - val_loss: 5.4225\n",
            "Epoch 12/20\n",
            "\u001b[1m147/147\u001b[0m \u001b[32m━━━━━━━━━━━━━━━━━━━━\u001b[0m\u001b[37m\u001b[0m \u001b[1m36s\u001b[0m 242ms/step - accuracy: 0.0742 - loss: 5.2561 - val_accuracy: 0.0975 - val_loss: 5.4210\n",
            "Epoch 13/20\n",
            "\u001b[1m147/147\u001b[0m \u001b[32m━━━━━━━━━━━━━━━━━━━━\u001b[0m\u001b[37m\u001b[0m \u001b[1m37s\u001b[0m 251ms/step - accuracy: 0.0750 - loss: 5.2431 - val_accuracy: 0.0952 - val_loss: 5.4179\n",
            "Epoch 14/20\n",
            "\u001b[1m147/147\u001b[0m \u001b[32m━━━━━━━━━━━━━━━━━━━━\u001b[0m\u001b[37m\u001b[0m \u001b[1m40s\u001b[0m 244ms/step - accuracy: 0.0752 - loss: 5.2119 - val_accuracy: 0.1029 - val_loss: 5.4103\n",
            "Epoch 15/20\n",
            "\u001b[1m147/147\u001b[0m \u001b[32m━━━━━━━━━━━━━━━━━━━━\u001b[0m\u001b[37m\u001b[0m \u001b[1m35s\u001b[0m 238ms/step - accuracy: 0.0767 - loss: 5.2339 - val_accuracy: 0.0946 - val_loss: 5.4126\n",
            "Epoch 16/20\n",
            "\u001b[1m147/147\u001b[0m \u001b[32m━━━━━━━━━━━━━━━━━━━━\u001b[0m\u001b[37m\u001b[0m \u001b[1m40s\u001b[0m 235ms/step - accuracy: 0.0755 - loss: 5.2171 - val_accuracy: 0.0916 - val_loss: 5.4103\n",
            "Epoch 17/20\n",
            "\u001b[1m147/147\u001b[0m \u001b[32m━━━━━━━━━━━━━━━━━━━━\u001b[0m\u001b[37m\u001b[0m \u001b[1m36s\u001b[0m 246ms/step - accuracy: 0.0812 - loss: 5.1919 - val_accuracy: 0.1022 - val_loss: 5.4017\n",
            "Epoch 18/20\n",
            "\u001b[1m147/147\u001b[0m \u001b[32m━━━━━━━━━━━━━━━━━━━━\u001b[0m\u001b[37m\u001b[0m \u001b[1m41s\u001b[0m 248ms/step - accuracy: 0.0844 - loss: 5.1589 - val_accuracy: 0.0918 - val_loss: 5.4070\n",
            "Epoch 19/20\n",
            "\u001b[1m147/147\u001b[0m \u001b[32m━━━━━━━━━━━━━━━━━━━━\u001b[0m\u001b[37m\u001b[0m \u001b[1m43s\u001b[0m 264ms/step - accuracy: 0.0802 - loss: 5.1477 - val_accuracy: 0.1089 - val_loss: 5.3983\n",
            "Epoch 20/20\n",
            "\u001b[1m147/147\u001b[0m \u001b[32m━━━━━━━━━━━━━━━━━━━━\u001b[0m\u001b[37m\u001b[0m \u001b[1m37s\u001b[0m 236ms/step - accuracy: 0.0814 - loss: 5.1537 - val_accuracy: 0.1054 - val_loss: 5.4018\n"
          ]
        },
        {
          "output_type": "execute_result",
          "data": {
            "text/plain": [
              "<keras.src.callbacks.history.History at 0x7d6034f19300>"
            ]
          },
          "metadata": {},
          "execution_count": 55
        }
      ],
      "source": [
        "LSTMmodel.fit(X, y, epochs=20, batch_size=128, validation_split=0.2)"
      ]
    },
    {
      "cell_type": "markdown",
      "source": [
        "# Basic RNN Model"
      ],
      "metadata": {
        "id": "k_2fpJKhIEq8"
      }
    },
    {
      "cell_type": "code",
      "source": [
        "basicRNNmodel = Sequential()\n",
        "basicRNNmodel.add(Embedding(vocab_size, 100, input_length=X.shape[1]))\n",
        "basicRNNmodel.add(SimpleRNN(128, return_sequences=True, activation='tanh', kernel_regularizer=regularizers.l1_l2(0.01,0.01)))\n",
        "basicRNNmodel.add(SimpleRNN(128, activation='tanh', return_sequences=True))\n",
        "basicRNNmodel.add(Dropout(0.2))\n",
        "basicRNNmodel.add(SimpleRNN(64, activation='tanh', return_sequences=True))\n",
        "basicRNNmodel.add(SimpleRNN(64, activation='tanh', return_sequences=False))\n",
        "basicRNNmodel.add(Dense(vocab_size, activation='softmax'))\n",
        "basicRNNmodel.compile(loss='categorical_crossentropy', optimizer=Adam(learning_rate=0.001), metrics=['accuracy'])"
      ],
      "metadata": {
        "id": "APNajorOIERi"
      },
      "execution_count": 59,
      "outputs": []
    },
    {
      "cell_type": "code",
      "source": [
        "basicRNNmodel.summary()"
      ],
      "metadata": {
        "colab": {
          "base_uri": "https://localhost:8080/",
          "height": 369
        },
        "id": "XcDQwfGu2yUy",
        "outputId": "aa5cde2c-f8de-4b64-f70d-35902e379771"
      },
      "execution_count": 66,
      "outputs": [
        {
          "output_type": "display_data",
          "data": {
            "text/plain": [
              "\u001b[1mModel: \"sequential_20\"\u001b[0m\n"
            ],
            "text/html": [
              "<pre style=\"white-space:pre;overflow-x:auto;line-height:normal;font-family:Menlo,'DejaVu Sans Mono',consolas,'Courier New',monospace\"><span style=\"font-weight: bold\">Model: \"sequential_20\"</span>\n",
              "</pre>\n"
            ]
          },
          "metadata": {}
        },
        {
          "output_type": "display_data",
          "data": {
            "text/plain": [
              "┏━━━━━━━━━━━━━━━━━━━━━━━━━━━━━━━━━━━━━━┳━━━━━━━━━━━━━━━━━━━━━━━━━━━━━┳━━━━━━━━━━━━━━━━━┓\n",
              "┃\u001b[1m \u001b[0m\u001b[1mLayer (type)                        \u001b[0m\u001b[1m \u001b[0m┃\u001b[1m \u001b[0m\u001b[1mOutput Shape               \u001b[0m\u001b[1m \u001b[0m┃\u001b[1m \u001b[0m\u001b[1m        Param #\u001b[0m\u001b[1m \u001b[0m┃\n",
              "┡━━━━━━━━━━━━━━━━━━━━━━━━━━━━━━━━━━━━━━╇━━━━━━━━━━━━━━━━━━━━━━━━━━━━━╇━━━━━━━━━━━━━━━━━┩\n",
              "│ embedding_12 (\u001b[38;5;33mEmbedding\u001b[0m)             │ (\u001b[38;5;45mNone\u001b[0m, \u001b[38;5;34m50\u001b[0m, \u001b[38;5;34m100\u001b[0m)             │         \u001b[38;5;34m241,800\u001b[0m │\n",
              "├──────────────────────────────────────┼─────────────────────────────┼─────────────────┤\n",
              "│ simple_rnn_16 (\u001b[38;5;33mSimpleRNN\u001b[0m)            │ (\u001b[38;5;45mNone\u001b[0m, \u001b[38;5;34m50\u001b[0m, \u001b[38;5;34m128\u001b[0m)             │          \u001b[38;5;34m29,312\u001b[0m │\n",
              "├──────────────────────────────────────┼─────────────────────────────┼─────────────────┤\n",
              "│ simple_rnn_17 (\u001b[38;5;33mSimpleRNN\u001b[0m)            │ (\u001b[38;5;45mNone\u001b[0m, \u001b[38;5;34m50\u001b[0m, \u001b[38;5;34m128\u001b[0m)             │          \u001b[38;5;34m32,896\u001b[0m │\n",
              "├──────────────────────────────────────┼─────────────────────────────┼─────────────────┤\n",
              "│ dropout_18 (\u001b[38;5;33mDropout\u001b[0m)                 │ (\u001b[38;5;45mNone\u001b[0m, \u001b[38;5;34m50\u001b[0m, \u001b[38;5;34m128\u001b[0m)             │               \u001b[38;5;34m0\u001b[0m │\n",
              "├──────────────────────────────────────┼─────────────────────────────┼─────────────────┤\n",
              "│ simple_rnn_18 (\u001b[38;5;33mSimpleRNN\u001b[0m)            │ (\u001b[38;5;45mNone\u001b[0m, \u001b[38;5;34m50\u001b[0m, \u001b[38;5;34m64\u001b[0m)              │          \u001b[38;5;34m12,352\u001b[0m │\n",
              "├──────────────────────────────────────┼─────────────────────────────┼─────────────────┤\n",
              "│ simple_rnn_19 (\u001b[38;5;33mSimpleRNN\u001b[0m)            │ (\u001b[38;5;45mNone\u001b[0m, \u001b[38;5;34m64\u001b[0m)                  │           \u001b[38;5;34m8,256\u001b[0m │\n",
              "├──────────────────────────────────────┼─────────────────────────────┼─────────────────┤\n",
              "│ dense_18 (\u001b[38;5;33mDense\u001b[0m)                     │ (\u001b[38;5;45mNone\u001b[0m, \u001b[38;5;34m2418\u001b[0m)                │         \u001b[38;5;34m157,170\u001b[0m │\n",
              "└──────────────────────────────────────┴─────────────────────────────┴─────────────────┘\n"
            ],
            "text/html": [
              "<pre style=\"white-space:pre;overflow-x:auto;line-height:normal;font-family:Menlo,'DejaVu Sans Mono',consolas,'Courier New',monospace\">┏━━━━━━━━━━━━━━━━━━━━━━━━━━━━━━━━━━━━━━┳━━━━━━━━━━━━━━━━━━━━━━━━━━━━━┳━━━━━━━━━━━━━━━━━┓\n",
              "┃<span style=\"font-weight: bold\"> Layer (type)                         </span>┃<span style=\"font-weight: bold\"> Output Shape                </span>┃<span style=\"font-weight: bold\">         Param # </span>┃\n",
              "┡━━━━━━━━━━━━━━━━━━━━━━━━━━━━━━━━━━━━━━╇━━━━━━━━━━━━━━━━━━━━━━━━━━━━━╇━━━━━━━━━━━━━━━━━┩\n",
              "│ embedding_12 (<span style=\"color: #0087ff; text-decoration-color: #0087ff\">Embedding</span>)             │ (<span style=\"color: #00d7ff; text-decoration-color: #00d7ff\">None</span>, <span style=\"color: #00af00; text-decoration-color: #00af00\">50</span>, <span style=\"color: #00af00; text-decoration-color: #00af00\">100</span>)             │         <span style=\"color: #00af00; text-decoration-color: #00af00\">241,800</span> │\n",
              "├──────────────────────────────────────┼─────────────────────────────┼─────────────────┤\n",
              "│ simple_rnn_16 (<span style=\"color: #0087ff; text-decoration-color: #0087ff\">SimpleRNN</span>)            │ (<span style=\"color: #00d7ff; text-decoration-color: #00d7ff\">None</span>, <span style=\"color: #00af00; text-decoration-color: #00af00\">50</span>, <span style=\"color: #00af00; text-decoration-color: #00af00\">128</span>)             │          <span style=\"color: #00af00; text-decoration-color: #00af00\">29,312</span> │\n",
              "├──────────────────────────────────────┼─────────────────────────────┼─────────────────┤\n",
              "│ simple_rnn_17 (<span style=\"color: #0087ff; text-decoration-color: #0087ff\">SimpleRNN</span>)            │ (<span style=\"color: #00d7ff; text-decoration-color: #00d7ff\">None</span>, <span style=\"color: #00af00; text-decoration-color: #00af00\">50</span>, <span style=\"color: #00af00; text-decoration-color: #00af00\">128</span>)             │          <span style=\"color: #00af00; text-decoration-color: #00af00\">32,896</span> │\n",
              "├──────────────────────────────────────┼─────────────────────────────┼─────────────────┤\n",
              "│ dropout_18 (<span style=\"color: #0087ff; text-decoration-color: #0087ff\">Dropout</span>)                 │ (<span style=\"color: #00d7ff; text-decoration-color: #00d7ff\">None</span>, <span style=\"color: #00af00; text-decoration-color: #00af00\">50</span>, <span style=\"color: #00af00; text-decoration-color: #00af00\">128</span>)             │               <span style=\"color: #00af00; text-decoration-color: #00af00\">0</span> │\n",
              "├──────────────────────────────────────┼─────────────────────────────┼─────────────────┤\n",
              "│ simple_rnn_18 (<span style=\"color: #0087ff; text-decoration-color: #0087ff\">SimpleRNN</span>)            │ (<span style=\"color: #00d7ff; text-decoration-color: #00d7ff\">None</span>, <span style=\"color: #00af00; text-decoration-color: #00af00\">50</span>, <span style=\"color: #00af00; text-decoration-color: #00af00\">64</span>)              │          <span style=\"color: #00af00; text-decoration-color: #00af00\">12,352</span> │\n",
              "├──────────────────────────────────────┼─────────────────────────────┼─────────────────┤\n",
              "│ simple_rnn_19 (<span style=\"color: #0087ff; text-decoration-color: #0087ff\">SimpleRNN</span>)            │ (<span style=\"color: #00d7ff; text-decoration-color: #00d7ff\">None</span>, <span style=\"color: #00af00; text-decoration-color: #00af00\">64</span>)                  │           <span style=\"color: #00af00; text-decoration-color: #00af00\">8,256</span> │\n",
              "├──────────────────────────────────────┼─────────────────────────────┼─────────────────┤\n",
              "│ dense_18 (<span style=\"color: #0087ff; text-decoration-color: #0087ff\">Dense</span>)                     │ (<span style=\"color: #00d7ff; text-decoration-color: #00d7ff\">None</span>, <span style=\"color: #00af00; text-decoration-color: #00af00\">2418</span>)                │         <span style=\"color: #00af00; text-decoration-color: #00af00\">157,170</span> │\n",
              "└──────────────────────────────────────┴─────────────────────────────┴─────────────────┘\n",
              "</pre>\n"
            ]
          },
          "metadata": {}
        },
        {
          "output_type": "display_data",
          "data": {
            "text/plain": [
              "\u001b[1m Total params: \u001b[0m\u001b[38;5;34m1,445,360\u001b[0m (5.51 MB)\n"
            ],
            "text/html": [
              "<pre style=\"white-space:pre;overflow-x:auto;line-height:normal;font-family:Menlo,'DejaVu Sans Mono',consolas,'Courier New',monospace\"><span style=\"font-weight: bold\"> Total params: </span><span style=\"color: #00af00; text-decoration-color: #00af00\">1,445,360</span> (5.51 MB)\n",
              "</pre>\n"
            ]
          },
          "metadata": {}
        },
        {
          "output_type": "display_data",
          "data": {
            "text/plain": [
              "\u001b[1m Trainable params: \u001b[0m\u001b[38;5;34m481,786\u001b[0m (1.84 MB)\n"
            ],
            "text/html": [
              "<pre style=\"white-space:pre;overflow-x:auto;line-height:normal;font-family:Menlo,'DejaVu Sans Mono',consolas,'Courier New',monospace\"><span style=\"font-weight: bold\"> Trainable params: </span><span style=\"color: #00af00; text-decoration-color: #00af00\">481,786</span> (1.84 MB)\n",
              "</pre>\n"
            ]
          },
          "metadata": {}
        },
        {
          "output_type": "display_data",
          "data": {
            "text/plain": [
              "\u001b[1m Non-trainable params: \u001b[0m\u001b[38;5;34m0\u001b[0m (0.00 B)\n"
            ],
            "text/html": [
              "<pre style=\"white-space:pre;overflow-x:auto;line-height:normal;font-family:Menlo,'DejaVu Sans Mono',consolas,'Courier New',monospace\"><span style=\"font-weight: bold\"> Non-trainable params: </span><span style=\"color: #00af00; text-decoration-color: #00af00\">0</span> (0.00 B)\n",
              "</pre>\n"
            ]
          },
          "metadata": {}
        },
        {
          "output_type": "display_data",
          "data": {
            "text/plain": [
              "\u001b[1m Optimizer params: \u001b[0m\u001b[38;5;34m963,574\u001b[0m (3.68 MB)\n"
            ],
            "text/html": [
              "<pre style=\"white-space:pre;overflow-x:auto;line-height:normal;font-family:Menlo,'DejaVu Sans Mono',consolas,'Courier New',monospace\"><span style=\"font-weight: bold\"> Optimizer params: </span><span style=\"color: #00af00; text-decoration-color: #00af00\">963,574</span> (3.68 MB)\n",
              "</pre>\n"
            ]
          },
          "metadata": {}
        }
      ]
    },
    {
      "cell_type": "code",
      "source": [
        "lr_schedule = ReduceLROnPlateau(monitor='val_accuracy', factor=0.2, patience=15, min_lr=1e-6, verbose=1)\n",
        "early_stopping = tf.keras.callbacks.EarlyStopping(monitor='val_accuracy', patience=15, restore_best_weights=True, verbose=1)"
      ],
      "metadata": {
        "id": "qBKBl9etGNxk"
      },
      "execution_count": 57,
      "outputs": []
    },
    {
      "cell_type": "code",
      "source": [
        "basicRNNmodel.fit(X, y, epochs=50, batch_size=128, validation_split=0.2, callbacks=[early_stopping, lr_schedule])"
      ],
      "metadata": {
        "colab": {
          "base_uri": "https://localhost:8080/"
        },
        "id": "YvwoZTCDIssi",
        "outputId": "5de092f6-b4b6-4987-aca3-d79934de781f"
      },
      "execution_count": 60,
      "outputs": [
        {
          "output_type": "stream",
          "name": "stdout",
          "text": [
            "Epoch 1/50\n",
            "\u001b[1m147/147\u001b[0m \u001b[32m━━━━━━━━━━━━━━━━━━━━\u001b[0m\u001b[37m\u001b[0m \u001b[1m35s\u001b[0m 204ms/step - accuracy: 0.0491 - loss: 13.7657 - val_accuracy: 0.0781 - val_loss: 5.7200 - learning_rate: 0.0010\n",
            "Epoch 2/50\n",
            "\u001b[1m147/147\u001b[0m \u001b[32m━━━━━━━━━━━━━━━━━━━━\u001b[0m\u001b[37m\u001b[0m \u001b[1m29s\u001b[0m 200ms/step - accuracy: 0.0710 - loss: 5.4896 - val_accuracy: 0.0781 - val_loss: 5.5019 - learning_rate: 0.0010\n",
            "Epoch 3/50\n",
            "\u001b[1m147/147\u001b[0m \u001b[32m━━━━━━━━━━━━━━━━━━━━\u001b[0m\u001b[37m\u001b[0m \u001b[1m41s\u001b[0m 202ms/step - accuracy: 0.0721 - loss: 5.3980 - val_accuracy: 0.0781 - val_loss: 5.5136 - learning_rate: 0.0010\n",
            "Epoch 4/50\n",
            "\u001b[1m147/147\u001b[0m \u001b[32m━━━━━━━━━━━━━━━━━━━━\u001b[0m\u001b[37m\u001b[0m \u001b[1m44s\u001b[0m 220ms/step - accuracy: 0.0723 - loss: 5.4093 - val_accuracy: 0.0948 - val_loss: 5.5183 - learning_rate: 0.0010\n",
            "Epoch 5/50\n",
            "\u001b[1m147/147\u001b[0m \u001b[32m━━━━━━━━━━━━━━━━━━━━\u001b[0m\u001b[37m\u001b[0m \u001b[1m38s\u001b[0m 198ms/step - accuracy: 0.0717 - loss: 5.3897 - val_accuracy: 0.0781 - val_loss: 5.5207 - learning_rate: 0.0010\n",
            "Epoch 6/50\n",
            "\u001b[1m147/147\u001b[0m \u001b[32m━━━━━━━━━━━━━━━━━━━━\u001b[0m\u001b[37m\u001b[0m \u001b[1m29s\u001b[0m 199ms/step - accuracy: 0.0715 - loss: 5.4208 - val_accuracy: 0.0781 - val_loss: 5.5378 - learning_rate: 0.0010\n",
            "Epoch 7/50\n",
            "\u001b[1m147/147\u001b[0m \u001b[32m━━━━━━━━━━━━━━━━━━━━\u001b[0m\u001b[37m\u001b[0m \u001b[1m30s\u001b[0m 205ms/step - accuracy: 0.0725 - loss: 5.4028 - val_accuracy: 0.0781 - val_loss: 5.5311 - learning_rate: 0.0010\n",
            "Epoch 8/50\n",
            "\u001b[1m147/147\u001b[0m \u001b[32m━━━━━━━━━━━━━━━━━━━━\u001b[0m\u001b[37m\u001b[0m \u001b[1m41s\u001b[0m 204ms/step - accuracy: 0.0750 - loss: 5.4002 - val_accuracy: 0.0948 - val_loss: 5.5398 - learning_rate: 0.0010\n",
            "Epoch 9/50\n",
            "\u001b[1m147/147\u001b[0m \u001b[32m━━━━━━━━━━━━━━━━━━━━\u001b[0m\u001b[37m\u001b[0m \u001b[1m44s\u001b[0m 222ms/step - accuracy: 0.0684 - loss: 5.4027 - val_accuracy: 0.0781 - val_loss: 5.5372 - learning_rate: 0.0010\n",
            "Epoch 10/50\n",
            "\u001b[1m147/147\u001b[0m \u001b[32m━━━━━━━━━━━━━━━━━━━━\u001b[0m\u001b[37m\u001b[0m \u001b[1m41s\u001b[0m 222ms/step - accuracy: 0.0700 - loss: 5.4103 - val_accuracy: 0.0781 - val_loss: 5.5452 - learning_rate: 0.0010\n",
            "Epoch 11/50\n",
            "\u001b[1m147/147\u001b[0m \u001b[32m━━━━━━━━━━━━━━━━━━━━\u001b[0m\u001b[37m\u001b[0m \u001b[1m39s\u001b[0m 208ms/step - accuracy: 0.0728 - loss: 5.3939 - val_accuracy: 0.0948 - val_loss: 5.5498 - learning_rate: 0.0010\n",
            "Epoch 12/50\n",
            "\u001b[1m147/147\u001b[0m \u001b[32m━━━━━━━━━━━━━━━━━━━━\u001b[0m\u001b[37m\u001b[0m \u001b[1m40s\u001b[0m 203ms/step - accuracy: 0.0677 - loss: 5.4175 - val_accuracy: 0.0781 - val_loss: 5.5443 - learning_rate: 0.0010\n",
            "Epoch 13/50\n",
            "\u001b[1m147/147\u001b[0m \u001b[32m━━━━━━━━━━━━━━━━━━━━\u001b[0m\u001b[37m\u001b[0m \u001b[1m44s\u001b[0m 222ms/step - accuracy: 0.0728 - loss: 5.3917 - val_accuracy: 0.0948 - val_loss: 5.5494 - learning_rate: 0.0010\n",
            "Epoch 14/50\n",
            "\u001b[1m147/147\u001b[0m \u001b[32m━━━━━━━━━━━━━━━━━━━━\u001b[0m\u001b[37m\u001b[0m \u001b[1m29s\u001b[0m 200ms/step - accuracy: 0.0696 - loss: 5.4099 - val_accuracy: 0.0781 - val_loss: 5.5659 - learning_rate: 0.0010\n",
            "Epoch 15/50\n",
            "\u001b[1m147/147\u001b[0m \u001b[32m━━━━━━━━━━━━━━━━━━━━\u001b[0m\u001b[37m\u001b[0m \u001b[1m41s\u001b[0m 200ms/step - accuracy: 0.0755 - loss: 5.3780 - val_accuracy: 0.0781 - val_loss: 5.5472 - learning_rate: 0.0010\n",
            "Epoch 16/50\n",
            "\u001b[1m147/147\u001b[0m \u001b[32m━━━━━━━━━━━━━━━━━━━━\u001b[0m\u001b[37m\u001b[0m \u001b[1m41s\u001b[0m 201ms/step - accuracy: 0.0726 - loss: 5.4116 - val_accuracy: 0.0781 - val_loss: 5.5465 - learning_rate: 0.0010\n",
            "Epoch 17/50\n",
            "\u001b[1m147/147\u001b[0m \u001b[32m━━━━━━━━━━━━━━━━━━━━\u001b[0m\u001b[37m\u001b[0m \u001b[1m29s\u001b[0m 201ms/step - accuracy: 0.0763 - loss: 5.4034 - val_accuracy: 0.0948 - val_loss: 5.5587 - learning_rate: 0.0010\n",
            "Epoch 18/50\n",
            "\u001b[1m147/147\u001b[0m \u001b[32m━━━━━━━━━━━━━━━━━━━━\u001b[0m\u001b[37m\u001b[0m \u001b[1m30s\u001b[0m 201ms/step - accuracy: 0.0731 - loss: 5.3970 - val_accuracy: 0.0781 - val_loss: 5.5606 - learning_rate: 0.0010\n",
            "Epoch 19/50\n",
            "\u001b[1m147/147\u001b[0m \u001b[32m━━━━━━━━━━━━━━━━━━━━\u001b[0m\u001b[37m\u001b[0m \u001b[1m0s\u001b[0m 187ms/step - accuracy: 0.0759 - loss: 5.4037\n",
            "Epoch 19: ReduceLROnPlateau reducing learning rate to 0.00020000000949949026.\n",
            "\u001b[1m147/147\u001b[0m \u001b[32m━━━━━━━━━━━━━━━━━━━━\u001b[0m\u001b[37m\u001b[0m \u001b[1m41s\u001b[0m 200ms/step - accuracy: 0.0759 - loss: 5.4038 - val_accuracy: 0.0781 - val_loss: 5.5656 - learning_rate: 0.0010\n",
            "Epoch 19: early stopping\n",
            "Restoring model weights from the end of the best epoch: 4.\n"
          ]
        },
        {
          "output_type": "execute_result",
          "data": {
            "text/plain": [
              "<keras.src.callbacks.history.History at 0x7d6025783610>"
            ]
          },
          "metadata": {},
          "execution_count": 60
        }
      ]
    },
    {
      "cell_type": "markdown",
      "source": [
        "# Text Generation"
      ],
      "metadata": {
        "id": "CvNEVCsO2oSR"
      }
    },
    {
      "cell_type": "code",
      "source": [
        "def generate_seq(model, tokenizer, seq_length, seed_text, n_words):\n",
        "    result = list()\n",
        "    in_text = seed_text\n",
        "    for _ in range(n_words):\n",
        "        encoded = tokenizer.texts_to_sequences([in_text])[0]\n",
        "        encoded = pad_sequences([encoded], maxlen=seq_length, truncating='pre')\n",
        "        yhat = np.argmax(model.predict(encoded, verbose=0), axis=-1)\n",
        "        out_word = ''\n",
        "        for word, index in tokenizer.word_index.items():\n",
        "            if index == yhat:\n",
        "                out_word = word\n",
        "                break\n",
        "        in_text += ' ' + out_word\n",
        "        result.append(out_word)\n",
        "    return ' '.join(result)\n",
        "\n",
        "in_filename = 'Sequences.txt'\n",
        "doc = load_doc(in_filename)\n",
        "lines = doc.split('\\n')\n",
        "seq_length = len(lines[0].split()) - 1\n",
        "\n",
        "\n",
        "for i in range(10):\n",
        "  seed_text = lines[randint(0,len(lines))]\n",
        "  print(f'{i+1}. Seed Text: ' + seed_text + '\\n')\n",
        "\n",
        "  generated = generate_seq(basicRNNmodel, tokenizer, seq_length, seed_text, 50)\n",
        "  print('Generated Text: ' + generated + '\\n\\n')\n",
        "\n"
      ],
      "metadata": {
        "colab": {
          "base_uri": "https://localhost:8080/"
        },
        "id": "shK3h8Mf2nfJ",
        "outputId": "8b5168de-0b9b-44da-8726-f9e3e9efa246"
      },
      "execution_count": 65,
      "outputs": [
        {
          "output_type": "stream",
          "name": "stdout",
          "text": [
            "1. Seed Text: so awfully have answered three questions and that is said his father give yourself airs do you think i can listen all day to such stuff be off or kick you down is not said said the caterpillar quite right said alice timidly of the words have got is wrong from\n",
            "\n",
            "Generated Text: and and and and and and and and and and and and and and and and and and and and and and and and and and and and and and and and and and and and and and and and and and and and and and and and and and\n",
            "\n",
            "\n",
            "2. Seed Text: silent the king laid his hand upon her arm and timidly said my dear she is only a the queen turned angrily away from him and said to the knave them the knave did so very carefully with one foot said the queen in a shrill loud voice and the three\n",
            "\n",
            "Generated Text: and and and and and and and and and and and and and and and and and and and and and and and and and and and and and and and and and and and and and and and and and and and and and and and and and and\n",
            "\n",
            "\n",
            "3. Seed Text: flapper across his eyes he looked at alice and tried to speak but for a minute or two sobs choked his voice as if he had a bone in his said the gryphon and it set to work shaking him and punching him in the back at last the mock turtle\n",
            "\n",
            "Generated Text: and and and and and and and and and and and and and and and and and and and and and and and and and and and and and and and and and and and and and and and and and and and and and and and and and and\n",
            "\n",
            "\n",
            "4. Seed Text: the way of expecting nothing but outoftheway things to happen that it seemed quite dull and stupid for life to go on in the common way so she set to work and very soon finished off the cake chapter ii the pool of tears and cried alice she was so much\n",
            "\n",
            "Generated Text: and and and and and and and and and and and and and and and and and and and and and and and and and and and and and and and and and and and and and and and and and and and and and and and and and and\n",
            "\n",
            "\n",
            "5. Seed Text: had been for some time busily writing in his notebook cackled out and read out from his book fortytwo all persons more than a mile high to leave the everybody looked at alice not a mile said alice said the king two miles added the queen i go at any said\n",
            "\n",
            "Generated Text: and and and and and and and and and and and and and and and and and and and and and and and and and and and and and and and and and and and and and and and and and and and and and and and and and and\n",
            "\n",
            "\n",
            "6. Seed Text: of them with her arms folded frowning like a thunderstorm fine day your the duchess began in a low weak voice i give you fair shouted the queen stamping on the ground as she spoke you or your head must be off and that in about half no time take your\n",
            "\n",
            "Generated Text: and and and and and and and and and and and and and and and and and and and and and and and and and and and and and and and and and and and and and and and and and and and and and and and and and and\n",
            "\n",
            "\n",
            "7. Seed Text: in a large ring with the mouse in the middle alice kept her eyes anxiously fixed on it for she felt sure she would catch a bad cold if she did not get dry very soon said the mouse with an important air you all ready this is the driest thing\n",
            "\n",
            "Generated Text: and and and and and and and and and and and and and and and and and and and and and and and and and and and and and and and and and and and and and and and and and and and and and and and and and and\n",
            "\n",
            "\n",
            "8. Seed Text: she had quite forgotten the duchess by this time and was a little startled when she heard her voice close to her ear thinking about something my dear and that makes you forget to talk i tell you just now what the moral of that is but i shall remember it\n",
            "\n",
            "Generated Text: and and and and and and and and and and and and and and and and and and and and and and and and and and and and and and and and and and and and and and and and and and and and and and and and and and\n",
            "\n",
            "\n",
            "9. Seed Text: see some meaning in them after all i could not you swim can he added turning to the knave the knave shook his head sadly i look like he said which he certainly did not being made entirely of cardboard right so said the king and he went on muttering over\n",
            "\n",
            "Generated Text: and and and and and and and and and and and and and and and and and and and and and and and and and and and and and and and and and and and and and and and and and and and and and and and and and and\n",
            "\n",
            "\n",
            "10. Seed Text: to open them again and all would change to dull grass would be only rustling in the wind and the pool rippling to the waving of the rattling teacups would change to tinkling sheepbells and the shrill cries to the voice of the shepherd the sneeze of the baby the shriek\n",
            "\n",
            "Generated Text: and and and and and and and and and and and and and and and and and and and and and and and and and and and and and and and and and and and and and and and and and and and and and and and and and and\n",
            "\n",
            "\n"
          ]
        }
      ]
    }
  ],
  "metadata": {
    "colab": {
      "provenance": []
    },
    "kernelspec": {
      "display_name": "Python 3",
      "name": "python3"
    },
    "language_info": {
      "name": "python"
    }
  },
  "nbformat": 4,
  "nbformat_minor": 0
}