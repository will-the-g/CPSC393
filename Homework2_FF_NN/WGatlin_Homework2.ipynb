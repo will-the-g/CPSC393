{
  "nbformat": 4,
  "nbformat_minor": 0,
  "metadata": {
    "colab": {
      "provenance": []
    },
    "kernelspec": {
      "name": "python3",
      "display_name": "Python 3"
    },
    "language_info": {
      "name": "python"
    }
  },
  "cells": [
    {
      "cell_type": "markdown",
      "source": [
        "# Imports & Data Loading"
      ],
      "metadata": {
        "id": "yVOHEzpv8Blx"
      }
    },
    {
      "cell_type": "code",
      "source": [
        "import pandas as pd\n",
        "import numpy as np\n",
        "\n",
        "# keras/tensorflow\n",
        "import tensorflow as tf\n",
        "import tensorflow.keras as kb\n",
        "from sklearn.model_selection import GridSearchCV\n",
        "from tensorflow.keras.optimizers import Adam\n",
        "from tensorflow.keras import regularizers\n",
        "from tensorflow.keras.layers import BatchNormalization, Dropout\n",
        "# sklearn\n",
        "from sklearn.model_selection import train_test_split\n",
        "from sklearn.preprocessing import StandardScaler, OneHotEncoder\n",
        "import sklearn.metrics as metrics\n",
        "from sklearn.compose import make_column_transformer\n",
        "from sklearn.linear_model import LogisticRegression\n",
        "from sklearn.metrics import make_scorer, mean_absolute_error"
      ],
      "metadata": {
        "id": "lFtwI3tx8A2F"
      },
      "execution_count": 2,
      "outputs": []
    },
    {
      "cell_type": "code",
      "source": [
        "data = pd.read_csv('/content/House_Rent_Dataset.csv')\n",
        "data.head()"
      ],
      "metadata": {
        "id": "2J_RuZv-8NgW"
      },
      "execution_count": null,
      "outputs": []
    },
    {
      "cell_type": "code",
      "source": [
        "data.shape"
      ],
      "metadata": {
        "id": "NPaP69HsfpwM"
      },
      "execution_count": null,
      "outputs": []
    },
    {
      "cell_type": "markdown",
      "source": [
        "# Pre processing / Data Manipulation"
      ],
      "metadata": {
        "id": "J3dExYD08RYE"
      }
    },
    {
      "cell_type": "code",
      "source": [
        "feats = [\"BHK\", \"Size\", \"Area Type\", \"City\", \"Furnishing Status\", \"Tenant Preferred\", \"Bathroom\"]\n",
        "contin = [\"BHK\", \"Size\", \"Bathroom\"]\n",
        "predict = \"Rent\"\n",
        "\n",
        "X = data[feats]\n",
        "y = data[predict]\n",
        "\n",
        "X_train, X_test, y_train, y_test = train_test_split(X, y, test_size=0.2, random_state=42)\n",
        "\n",
        "z = make_column_transformer(\n",
        "    (StandardScaler(), contin),\n",
        "    (OneHotEncoder(), [\"Area Type\", \"City\", \"Furnishing Status\", \"Tenant Preferred\"]),\n",
        "    remainder=\"passthrough\"\n",
        ")\n",
        "X_train = z.fit_transform(X_train)\n",
        "X_test = z.transform(X_test)\n",
        "\n",
        "\n"
      ],
      "metadata": {
        "id": "-85VCe7P_8Xk"
      },
      "execution_count": null,
      "outputs": []
    },
    {
      "cell_type": "markdown",
      "source": [
        "# Nueral Network Model"
      ],
      "metadata": {
        "id": "FBPJJw_W8QH3"
      }
    },
    {
      "cell_type": "code",
      "source": [
        "model = kb.Sequential([\n",
        "    kb.layers.Input(shape=(X_train.shape[1],)),\n",
        "    kb.layers.Dense(16, activation='relu', kernel_regularizer=regularizers.l1_l2(l1=0.01, l2=0.01)),\n",
        "    kb.layers.Dense(8, activation='relu', kernel_regularizer=regularizers.l1_l2(l1=0.01, l2=0.01)),\n",
        "    kb.layers.Dense(4, activation='relu', kernel_regularizer=regularizers.l1_l2(l1=0.01, l2=0.01)),\n",
        "    kb.layers.Dense(1)\n",
        "])\n",
        "\n",
        "model.compile(optimizer=\"adam\", loss='mean_squared_error', metrics=['mean_absolute_error'])\n",
        "\n",
        "model.fit(X_train, y_train, epochs=20, batch_size=64)"
      ],
      "metadata": {
        "colab": {
          "base_uri": "https://localhost:8080/"
        },
        "id": "JOg9OBzlFVXA",
        "outputId": "dd9d3081-eefd-4ead-b861-1e1f30721bb3"
      },
      "execution_count": null,
      "outputs": [
        {
          "output_type": "stream",
          "name": "stdout",
          "text": [
            "Epoch 1/20\n",
            "\u001b[1m60/60\u001b[0m \u001b[32m━━━━━━━━━━━━━━━━━━━━\u001b[0m\u001b[37m\u001b[0m \u001b[1m2s\u001b[0m 2ms/step - loss: 6481208832.0000 - mean_absolute_error: 34863.8203\n",
            "Epoch 2/20\n",
            "\u001b[1m60/60\u001b[0m \u001b[32m━━━━━━━━━━━━━━━━━━━━\u001b[0m\u001b[37m\u001b[0m \u001b[1m0s\u001b[0m 2ms/step - loss: 6855646720.0000 - mean_absolute_error: 35338.3320\n",
            "Epoch 3/20\n",
            "\u001b[1m60/60\u001b[0m \u001b[32m━━━━━━━━━━━━━━━━━━━━\u001b[0m\u001b[37m\u001b[0m \u001b[1m0s\u001b[0m 2ms/step - loss: 6768043008.0000 - mean_absolute_error: 35989.0664\n",
            "Epoch 4/20\n",
            "\u001b[1m60/60\u001b[0m \u001b[32m━━━━━━━━━━━━━━━━━━━━\u001b[0m\u001b[37m\u001b[0m \u001b[1m0s\u001b[0m 2ms/step - loss: 6882411008.0000 - mean_absolute_error: 34326.0430\n",
            "Epoch 5/20\n",
            "\u001b[1m60/60\u001b[0m \u001b[32m━━━━━━━━━━━━━━━━━━━━\u001b[0m\u001b[37m\u001b[0m \u001b[1m0s\u001b[0m 2ms/step - loss: 5777411584.0000 - mean_absolute_error: 34788.0391\n",
            "Epoch 6/20\n",
            "\u001b[1m60/60\u001b[0m \u001b[32m━━━━━━━━━━━━━━━━━━━━\u001b[0m\u001b[37m\u001b[0m \u001b[1m0s\u001b[0m 2ms/step - loss: 8903829504.0000 - mean_absolute_error: 34724.9023\n",
            "Epoch 7/20\n",
            "\u001b[1m60/60\u001b[0m \u001b[32m━━━━━━━━━━━━━━━━━━━━\u001b[0m\u001b[37m\u001b[0m \u001b[1m0s\u001b[0m 2ms/step - loss: 14510649344.0000 - mean_absolute_error: 37696.2656\n",
            "Epoch 8/20\n",
            "\u001b[1m60/60\u001b[0m \u001b[32m━━━━━━━━━━━━━━━━━━━━\u001b[0m\u001b[37m\u001b[0m \u001b[1m0s\u001b[0m 2ms/step - loss: 8113844736.0000 - mean_absolute_error: 35017.0625\n",
            "Epoch 9/20\n",
            "\u001b[1m60/60\u001b[0m \u001b[32m━━━━━━━━━━━━━━━━━━━━\u001b[0m\u001b[37m\u001b[0m \u001b[1m0s\u001b[0m 2ms/step - loss: 5172851200.0000 - mean_absolute_error: 32080.5664\n",
            "Epoch 10/20\n",
            "\u001b[1m60/60\u001b[0m \u001b[32m━━━━━━━━━━━━━━━━━━━━\u001b[0m\u001b[37m\u001b[0m \u001b[1m0s\u001b[0m 2ms/step - loss: 12637393920.0000 - mean_absolute_error: 34517.2227\n",
            "Epoch 11/20\n",
            "\u001b[1m60/60\u001b[0m \u001b[32m━━━━━━━━━━━━━━━━━━━━\u001b[0m\u001b[37m\u001b[0m \u001b[1m0s\u001b[0m 2ms/step - loss: 4792916480.0000 - mean_absolute_error: 31270.1230\n",
            "Epoch 12/20\n",
            "\u001b[1m60/60\u001b[0m \u001b[32m━━━━━━━━━━━━━━━━━━━━\u001b[0m\u001b[37m\u001b[0m \u001b[1m0s\u001b[0m 2ms/step - loss: 6691009024.0000 - mean_absolute_error: 32839.1758\n",
            "Epoch 13/20\n",
            "\u001b[1m60/60\u001b[0m \u001b[32m━━━━━━━━━━━━━━━━━━━━\u001b[0m\u001b[37m\u001b[0m \u001b[1m0s\u001b[0m 2ms/step - loss: 10464591872.0000 - mean_absolute_error: 31605.7285\n",
            "Epoch 14/20\n",
            "\u001b[1m60/60\u001b[0m \u001b[32m━━━━━━━━━━━━━━━━━━━━\u001b[0m\u001b[37m\u001b[0m \u001b[1m0s\u001b[0m 3ms/step - loss: 10095196160.0000 - mean_absolute_error: 29640.8691\n",
            "Epoch 15/20\n",
            "\u001b[1m60/60\u001b[0m \u001b[32m━━━━━━━━━━━━━━━━━━━━\u001b[0m\u001b[37m\u001b[0m \u001b[1m0s\u001b[0m 2ms/step - loss: 5044778496.0000 - mean_absolute_error: 25336.7852\n",
            "Epoch 16/20\n",
            "\u001b[1m60/60\u001b[0m \u001b[32m━━━━━━━━━━━━━━━━━━━━\u001b[0m\u001b[37m\u001b[0m \u001b[1m0s\u001b[0m 2ms/step - loss: 3569696000.0000 - mean_absolute_error: 23613.0391\n",
            "Epoch 17/20\n",
            "\u001b[1m60/60\u001b[0m \u001b[32m━━━━━━━━━━━━━━━━━━━━\u001b[0m\u001b[37m\u001b[0m \u001b[1m0s\u001b[0m 2ms/step - loss: 18242740224.0000 - mean_absolute_error: 26700.4473\n",
            "Epoch 18/20\n",
            "\u001b[1m60/60\u001b[0m \u001b[32m━━━━━━━━━━━━━━━━━━━━\u001b[0m\u001b[37m\u001b[0m \u001b[1m0s\u001b[0m 2ms/step - loss: 8823810048.0000 - mean_absolute_error: 22463.1719 \n",
            "Epoch 19/20\n",
            "\u001b[1m60/60\u001b[0m \u001b[32m━━━━━━━━━━━━━━━━━━━━\u001b[0m\u001b[37m\u001b[0m \u001b[1m0s\u001b[0m 2ms/step - loss: 6835760640.0000 - mean_absolute_error: 20695.4922\n",
            "Epoch 20/20\n",
            "\u001b[1m60/60\u001b[0m \u001b[32m━━━━━━━━━━━━━━━━━━━━\u001b[0m\u001b[37m\u001b[0m \u001b[1m0s\u001b[0m 2ms/step - loss: 9817224192.0000 - mean_absolute_error: 23542.2266 \n"
          ]
        },
        {
          "output_type": "execute_result",
          "data": {
            "text/plain": [
              "<keras.src.callbacks.history.History at 0x79ebbfcf3580>"
            ]
          },
          "metadata": {},
          "execution_count": 101
        }
      ]
    },
    {
      "cell_type": "markdown",
      "source": [
        "# Prediction and Metrics"
      ],
      "metadata": {
        "id": "CN1yuBkH8atk"
      }
    },
    {
      "cell_type": "code",
      "source": [
        "y_train_pred = model.predict(X_train)\n",
        "y_test_pred = model.predict(X_test)\n",
        "\n",
        "print(\"Train MAE: \", metrics.mean_absolute_error(y_train, y_train_pred))\n",
        "print(\"Test MAE: \", metrics.mean_absolute_error(y_test, y_test_pred))\n",
        "\n",
        "print(\"Train RMSE: \", np.sqrt(metrics.mean_squared_error(y_train, y_train_pred)))\n",
        "print(\"Test RMSE: \", np.sqrt(metrics.mean_squared_error(y_test, y_test_pred)))"
      ],
      "metadata": {
        "colab": {
          "base_uri": "https://localhost:8080/"
        },
        "id": "gAIxECympv8n",
        "outputId": "dcea9782-bc47-446c-d164-9e965c5627e5"
      },
      "execution_count": null,
      "outputs": [
        {
          "output_type": "stream",
          "name": "stdout",
          "text": [
            "\u001b[1m119/119\u001b[0m \u001b[32m━━━━━━━━━━━━━━━━━━━━\u001b[0m\u001b[37m\u001b[0m \u001b[1m0s\u001b[0m 2ms/step\n",
            "\u001b[1m30/30\u001b[0m \u001b[32m━━━━━━━━━━━━━━━━━━━━\u001b[0m\u001b[37m\u001b[0m \u001b[1m0s\u001b[0m 1ms/step \n",
            "Train MAE:  21938.506674763525\n",
            "Test MAE:  21086.921692537006\n",
            "Train MSE:  5992345842.080884\n",
            "Test MSE:  3290457253.365662\n",
            "Train RMSE:  77410.24378001198\n",
            "Test RMSE:  57362.507383879776\n"
          ]
        }
      ]
    },
    {
      "cell_type": "markdown",
      "source": [
        "# Linear Regression Model"
      ],
      "metadata": {
        "id": "rC1CfpiB8eF-"
      }
    },
    {
      "cell_type": "code",
      "source": [
        "lr = LogisticRegression()\n",
        "lr.fit(X_train, y_train)\n",
        "\n",
        "y_train_pred = lr.predict(X_train)\n",
        "y_test_pred = lr.predict(X_test)\n",
        "\n",
        "print(\"Train MAE: \", metrics.mean_absolute_error(y_train, y_train_pred))\n",
        "print(\"Test MAE: \", metrics.mean_absolute_error(y_test, y_test_pred))\n",
        "\n",
        "print(\"Train RMSE: \", np.sqrt(metrics.mean_squared_error(y_train, y_train_pred)))\n",
        "print(\"Test RMSE: \", np.sqrt(metrics.mean_squared_error(y_test, y_test_pred)))"
      ],
      "metadata": {
        "colab": {
          "base_uri": "https://localhost:8080/"
        },
        "id": "sxZX2f210eFT",
        "outputId": "534c1326-31cf-41f3-eccc-a5ecd6c2be2d"
      },
      "execution_count": null,
      "outputs": [
        {
          "output_type": "stream",
          "name": "stdout",
          "text": [
            "Train MAE:  15647.808219178081\n",
            "Test MAE:  14353.195789473684\n",
            "Train MSE:  5033340189.2428875\n",
            "Test MSE:  1933433124.9157894\n",
            "Train RMSE:  70946.03716376897\n",
            "Test RMSE:  43970.8212899849\n"
          ]
        }
      ]
    }
  ]
}